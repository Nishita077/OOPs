{
  "nbformat": 4,
  "nbformat_minor": 0,
  "metadata": {
    "colab": {
      "provenance": []
    },
    "kernelspec": {
      "name": "python3",
      "display_name": "Python 3"
    },
    "language_info": {
      "name": "python"
    }
  },
  "cells": [
    {
      "cell_type": "markdown",
      "source": [
        "#Python OOPs -\n",
        "#(Assignment)"
      ],
      "metadata": {
        "id": "k7WwHJkqYsnC"
      }
    },
    {
      "cell_type": "markdown",
      "source": [
        "<h2><b>Ques_1) What is Object-Oriented Programming (OOP)?</h2></b>\n",
        "\n",
        "-> <b>Object Oriented Programming </b> is a programming paradigm (a style of programming ) that organizes code around <b>Objects</b> instead of functions and logics.\n",
        "- objects represents real-world entities(like a car, bank account or a student).\n",
        "- Each object has:\n",
        "   - <b>Attributes (data, properties)</b> -> describes the object\n",
        "   - <b>Methods (functions, behaviours)</b> -> actions the object can perform.\n",
        "\n",
        "<h3> Core Concepts of OOP</h3>\n",
        "\n",
        "The four main pillars are:\n",
        "\n",
        "1. <b><u>Encapsulation</b></u>: Wrapping data(attributes) and methods(functions) together inside a class.\n",
        "- Example: A car object has speed and color (data) + drive() (method)\n",
        "\n",
        "2. <b><u>Abstraction</b></u>: Hiding unnecessary details and only showing the essential features.\n",
        "- Example: When you are driving a car you're only using steering wheel and pedals, but you don't need to know how the engine's actually working.\n",
        "\n",
        "3. <b><u>Inheritance</b></u>: A class (parent class) can <b>inherit</b> the properties and methods of another class (child class).\n",
        "- Example: A sports car inherits from Car but adds turboBoost().\n",
        "\n",
        "4. <b><u>Polymorphism</b></u>: The word Polymorphism is made by joining two words (Poly = many, Morphism = forms). The same method taking several forms depending upon the object.\n",
        "- Example: makeSound() -> a Dog says <i>Woof</i>, a Cat says <i>Meow</i>.\n",
        "\n",
        "<h3>Example of how OOP works in python:</h3>"
      ],
      "metadata": {
        "id": "sIjOYL7eZAaf"
      }
    },
    {
      "cell_type": "code",
      "source": [
        "# Class (blueprint)\n",
        "class Car:\n",
        "  def __init__(self, brand, color):\n",
        "    self.brand = brand  # attribute\n",
        "    self.color = color  #attribute\n",
        "\n",
        "  def drive(self):  #method:\n",
        "    print(f\"{self.brand} car is driving.\")\n",
        "\n",
        "# objects (real entities)\n",
        "car1 = Car(\"Tesla\", \"Black\")\n",
        "car2 = Car(\"BMW\", \"Red\")\n",
        "\n",
        "car1.drive()\n",
        "car2.drive()\n",
        "\n"
      ],
      "metadata": {
        "colab": {
          "base_uri": "https://localhost:8080/"
        },
        "id": "1lGeeX9Nhyr2",
        "outputId": "b36fe12f-885b-4ef4-b895-b6c640434c0e"
      },
      "execution_count": 45,
      "outputs": [
        {
          "output_type": "stream",
          "name": "stdout",
          "text": [
            "Tesla car is driving.\n",
            "BMW car is driving.\n"
          ]
        }
      ]
    },
    {
      "cell_type": "markdown",
      "source": [
        "<b>In Short</b>\n",
        "\n",
        "OOP help us write code that is <b>organized, reusable, modular and close to how we think in real world.</b>"
      ],
      "metadata": {
        "id": "M_ND_u17jUCW"
      }
    },
    {
      "cell_type": "markdown",
      "source": [
        "<h2><b>Ques_2) What is a class in OOP? </h2></b>\n",
        "\n",
        "-> A <b>class</b> is like a <b>blueprint</b> or <b>template</b> for creating objects.\n",
        "\n",
        "* A class itself is not a \"real thing\" -- its's just an design.\n",
        "* It defines the <b>attributes</b> (data) and <b>methods</b> (functions) from which object is created from.\n",
        "* When you actually creates something from it, that's called an object (instance)."
      ],
      "metadata": {
        "id": "YwDomtsyj9Zg"
      }
    },
    {
      "cell_type": "markdown",
      "source": [
        "<h4>Real-Life Analogy</h4>\n",
        "\n",
        "Think of a class as a blueprint for a house:\n",
        "\n",
        "- The blueprint (class) says: “This house will have 3 rooms, 2 doors, 1 kitchen, and a bathroom.”\n",
        "\n",
        "- But you can’t live in a blueprint — you need to build a house (object) from it.\n",
        "\n",
        "- Multiple houses (objects) can be built from the same blueprint (class).\n",
        "\n",
        "Example of class in python:"
      ],
      "metadata": {
        "id": "WQPIXOKEmcbT"
      }
    },
    {
      "cell_type": "code",
      "source": [
        "#-- Example(1) --\n",
        "\n",
        "class Student:\n",
        "    def __init__(self, name, age, grade):\n",
        "        self.name = name\n",
        "        self.age = age\n",
        "        self.grade = grade\n",
        "\n",
        "    def study(self):\n",
        "        print(f\"{self.name} is studying.\")\n",
        "\n",
        "    def get_info(self):\n",
        "        return f\"Name: {self.name}, Age: {self.age}, Grade: {self.grade}\"\n",
        "\n",
        "# Creating objects\n",
        "s1 = Student(\"Alice\", 20, \"A\")\n",
        "s2 = Student(\"Bob\", 22, \"B\")\n",
        "\n",
        "print(s1.get_info())   # Name: Alice, Age: 20, Grade: A\n",
        "s2.study()             # Bob is studying.\n"
      ],
      "metadata": {
        "colab": {
          "base_uri": "https://localhost:8080/"
        },
        "id": "gBBJ-OCOmwyi",
        "outputId": "47885fca-827d-4027-e96d-a68dec7144a1"
      },
      "execution_count": 46,
      "outputs": [
        {
          "output_type": "stream",
          "name": "stdout",
          "text": [
            "Name: Alice, Age: 20, Grade: A\n",
            "Bob is studying.\n"
          ]
        }
      ]
    },
    {
      "cell_type": "code",
      "source": [
        "# -- Example(2) --\n",
        "class Dog:\n",
        "  def __init__(self, name, breed):\n",
        "    self.name = name\n",
        "    self.breed = breed\n",
        "\n",
        "  def bark(self):\n",
        "    print(f\"{self.name},a {self.breed} is barking.\")\n",
        "\n",
        "dog1 = Dog(\"Lucaf\", \"Golden Retriever\")\n",
        "dog2 = Dog(\"Bella\", \"Poodle\")\n",
        "\n",
        "dog1.bark()\n",
        "dog2.bark()"
      ],
      "metadata": {
        "colab": {
          "base_uri": "https://localhost:8080/"
        },
        "id": "4uRoeV28plma",
        "outputId": "a49614b2-a353-4638-ad00-950febe0d12b"
      },
      "execution_count": 47,
      "outputs": [
        {
          "output_type": "stream",
          "name": "stdout",
          "text": [
            "Lucaf,a Golden Retriever is barking.\n",
            "Bella,a Poodle is barking.\n"
          ]
        }
      ]
    },
    {
      "cell_type": "markdown",
      "source": [
        "<h3>Key Points:</h3>\n",
        "\n",
        "<b>Class</b> = Design/Blueprint\n",
        "\n",
        "<b>Object(instance)</b> = Actual entity created from that object."
      ],
      "metadata": {
        "id": "9JsJIiNZqZ6w"
      }
    },
    {
      "cell_type": "markdown",
      "source": [
        "<h2><b>Ques_3) What is an object in OOP?</b></h2>\n",
        "\n",
        "-> An <b>object</b> is a <b>real instance</b> of a class.\n",
        "\n",
        "- If a class is a blueprint, then an object is the actual thing built from that blueprint.\n",
        "\n",
        "- Every object has:\n",
        "\n",
        "  - Attributes (data/state) → stored inside variables of that object.\n",
        "\n",
        "  * Methods (behavior) → functions that define what the object can do.\n",
        "\n",
        "  Example:"
      ],
      "metadata": {
        "id": "QF6goneAq4dW"
      }
    },
    {
      "cell_type": "code",
      "source": [
        "# Class (blueprint)\n",
        "class Car:\n",
        "    def __init__(self, brand, color):\n",
        "        self.brand = brand   # attribute\n",
        "        self.color = color   # attribute\n",
        "\n",
        "    def drive(self):\n",
        "        print(f\"{self.color} {self.brand} is driving!\")\n",
        "\n",
        "# Objects (real instances of Car)\n",
        "car1 = Car(\"Tesla\", \"Red\")   # Object 1\n",
        "car2 = Car(\"BMW\", \"Black\")   # Object 2\n",
        "\n",
        "print(car1.brand)   # Tesla\n",
        "print(car2.color)   # Black\n",
        "\n",
        "car1.drive()\n",
        "car2.drive()\n"
      ],
      "metadata": {
        "colab": {
          "base_uri": "https://localhost:8080/"
        },
        "id": "OkY_owGer3AZ",
        "outputId": "b36c4555-6815-4a37-9626-98dcdb66205a"
      },
      "execution_count": 48,
      "outputs": [
        {
          "output_type": "stream",
          "name": "stdout",
          "text": [
            "Tesla\n",
            "Black\n",
            "Red Tesla is driving!\n",
            "Black BMW is driving!\n"
          ]
        }
      ]
    },
    {
      "cell_type": "markdown",
      "source": [
        "<h3>Key Points</h3>\n",
        "\n",
        "* <B>Class</b>: Design\n",
        "* <b>Object</b>: Instance of that design.\n",
        "\n",
        "You can create many objects from a single class.\n",
        "\n",
        "Each object stores its own independent data."
      ],
      "metadata": {
        "id": "a3gjIe9xsAJv"
      }
    },
    {
      "cell_type": "markdown",
      "source": [
        "<h2><b>Ques_4) What is the difference between abstraction and encapsulation?</b></h2>\n",
        "\n",
        "->Difference between Abstraction and Encapsulation.\n",
        "| Feature        | **Abstraction**                                                                                                                                                          | **Encapsulation**                                                                                                                         |\n",
        "| -------------- | ------------------------------------------------------------------------------------------------------------------------------------------------------------------------ | ----------------------------------------------------------------------------------------------------------------------------------------- |\n",
        "| **Definition** | Hiding **implementation details** and showing only the **essential features**.                                                                                           | Binding **data (attributes)** and **methods (functions)** into a single unit (class).                                                     |\n",
        "| **Focus**      | Focuses on **what** an object does.                                                                                                                                      | Focuses on **how** the object’s data is protected & organized.                                                                            |\n",
        "| **Access**     | Achieved using **abstract classes** and **interfaces** (in languages like Java, C++). In Python, done through **abstract base classes (ABC)** or just method overriding. | Achieved using **access modifiers** (public, private, protected). In Python, we use naming conventions like `_protected` and `__private`. |\n",
        "| **Purpose**    | To **hide implementation complexity** from the user.                                                                                                                     | To **hide data** and control direct access to it.                                                                                         |\n",
        "| **Analogy**    | Using a TV remote → you press the button (what it does), but don’t know the internal wiring (implementation).                                                            | A capsule pill → medicine (data) is enclosed inside a capsule (class) to protect it.                                                      |\n"
      ],
      "metadata": {
        "id": "HWRGQ8Z4snF-"
      }
    },
    {
      "cell_type": "markdown",
      "source": [
        "<h3>Example of Abstraction:</h3>\n",
        "\n",
        "You don't need to know <b>How</b> the dive() method works internally, just use it\n"
      ],
      "metadata": {
        "id": "BpEDzo0guqU7"
      }
    },
    {
      "cell_type": "code",
      "source": [
        "from abc import ABC, abstractmethod\n",
        "\n",
        "# Abstract class\n",
        "class Vehicle(ABC):\n",
        "    @abstractmethod\n",
        "    def drive(self):\n",
        "        pass\n",
        "\n",
        "class Car(Vehicle):\n",
        "    def drive(self):\n",
        "        print(\"Car is driving\")\n",
        "\n",
        "class Bike(Vehicle):\n",
        "    def drive(self):\n",
        "        print(\"Bike is driving\")\n",
        "\n",
        "# Objects\n",
        "v1 = Car()\n",
        "v2 = Bike()\n",
        "\n",
        "v1.drive()   # Car is driving\n",
        "v2.drive()   # Bike is driving\n"
      ],
      "metadata": {
        "colab": {
          "base_uri": "https://localhost:8080/"
        },
        "id": "ABpYaRiAvCDK",
        "outputId": "78045600-2917-46c8-bffc-438f2749a032"
      },
      "execution_count": 49,
      "outputs": [
        {
          "output_type": "stream",
          "name": "stdout",
          "text": [
            "Car is driving\n",
            "Bike is driving\n"
          ]
        }
      ]
    },
    {
      "cell_type": "markdown",
      "source": [
        "Here, the user only cares about calling drive(), not how its coded inside."
      ],
      "metadata": {
        "id": "Yc-XHUwAwPvt"
      }
    },
    {
      "cell_type": "markdown",
      "source": [
        "<h2><b>Ques_5) What are dunder methods in Python?</h2></b>\n",
        "->\n",
        "<h3> Dunder Methods</h3>\n",
        " <u>D</u>ouble <u>UNDER</u>score methods (a.k.a Magic Methods or special methods).\n",
        "\n",
        "- Their names always start and end with two underscores:\n",
        " __init__, __str__, __len__, __add__, etc.\n",
        "\n",
        "- They are predefined methods in Python classes that let you customize the behavior of objects.\n",
        "\n",
        "⚡ In simple words:\n",
        "They are like “secret hooks” that Python calls automatically when certain actions happen.\n",
        "\n",
        "\n",
        "| Dunder Method | When It’s Called                        | Example           |\n",
        "| ------------- | --------------------------------------- | ----------------- |\n",
        "| `__init__`    | When an object is created (constructor) | `obj = MyClass()` |\n",
        "| `__str__`     | When you print an object                | `print(obj)`      |\n",
        "| `__len__`     | When you use `len(obj)`                 | `len(obj)`        |\n",
        "| `__getitem__` | When you use `obj[key]`                 | `mylist[0]`       |\n",
        "| `__setitem__` | When you assign `obj[key] = value`      | `mydict[\"a\"] = 1` |\n",
        "| `__del__`     | When object is deleted                  | `del obj`         |\n",
        "| `__add__`     | When you use `+` between objects        | `obj1 + obj2`     |\n",
        "| `__eq__`      | When you compare objects (`==`)         | `obj1 == obj2`    |\n",
        "\n"
      ],
      "metadata": {
        "id": "Wu1GlHkawcjO"
      }
    },
    {
      "cell_type": "markdown",
      "source": [
        "Example:\n"
      ],
      "metadata": {
        "id": "0OsmoKsf6gOW"
      }
    },
    {
      "cell_type": "code",
      "source": [
        "class Book:\n",
        "    def __init__(self, title, pages):\n",
        "        self.title = title\n",
        "        self.pages = pages\n",
        "\n",
        "    def __str__(self):   # defines how object looks when printed\n",
        "        return f\"Book: {self.title}, Pages: {self.pages}\"\n",
        "\n",
        "    def __len__(self):   # allows len(obj)\n",
        "        return self.pages\n",
        "\n",
        "    def __add__(self, other):   # allows obj1 + obj2\n",
        "        return self.pages + other.pages\n",
        "\n",
        "# Objects\n",
        "b1 = Book(\"Python Basics\", 200)\n",
        "b2 = Book(\"OOP Concepts\", 150)\n",
        "\n",
        "print(b1)           # Book: Python Basics, Pages: 200\n",
        "print(len(b1))      # 200\n",
        "print(b1 + b2)      # 350 (total pages)\n"
      ],
      "metadata": {
        "colab": {
          "base_uri": "https://localhost:8080/"
        },
        "id": "MUZzfzfp6ibS",
        "outputId": "2e7a075e-0613-48b6-f9f5-cb7099310f4b"
      },
      "execution_count": 50,
      "outputs": [
        {
          "output_type": "stream",
          "name": "stdout",
          "text": [
            "Book: Python Basics, Pages: 200\n",
            "200\n",
            "350\n"
          ]
        }
      ]
    },
    {
      "cell_type": "markdown",
      "source": [
        "<b>Dunder Methods</b> are called <b>Magic methods</b> because Python automatically calls them when you use certain operators or functions.\n",
        "\n",
        "<h3>Why are they used?</h3>\n",
        "They let you customize the behaviour of your objects. Instead of writing seperate functions, you can make your class object behaves like built-in python objects (strings, numbers, lists, etc)"
      ],
      "metadata": {
        "id": "6VJOnPJUHZCE"
      }
    },
    {
      "cell_type": "markdown",
      "source": [
        "<h2><b>Ques_6)  Explain the concept of inheritance in OOP?</h2></b>\n",
        "\n",
        "-> Inheritance is a <b>mechanism in object-oriented Programming (OOP) </b>where one class (called the <b>child</b> or <b>subclass</b>) can <b>reuse and extend</b> the properties and behaviors of another class (the <b>parent class or super class</b>).\n",
        "\n",
        "In short: it lets you <b>reuse code</b> instead of writing it again and again.\n",
        "\n",
        "<h3>Real-Life Analogy</h3>\n",
        "\n",
        "Think of inheritance like family traits:\n",
        "\n",
        "- A child inherits eye color, hair type, or height from their parents.\n",
        "\n",
        "- But the child can also have unique features that the parent doesn’t have.\n",
        "\n",
        "Similarly:\n",
        "\n",
        "- A subclass inherits attributes & methods from its parent.\n",
        "\n",
        "- The subclass can add new features or override existing ones."
      ],
      "metadata": {
        "id": "w5_chsuoJ-iu"
      }
    },
    {
      "cell_type": "markdown",
      "source": [
        "<h3><b>Types of inheritance in python</h3></b>\n",
        "\n",
        "1. <b>Single Inheritance</b>: One parent, one child.\n",
        "\n",
        "2. <b>Multiple Inheritance</b>: Child inherits from more than one Parent.\n",
        "\n",
        "3. <b>Multilevel Inheritance</b>: A child becomes parent for another child.\n",
        "\n",
        "4. <b>Hierarchical Inheritance</b>: One parent, multiple children.\n",
        "\n",
        "5. <b>Hybrid Inheritance</b>: Combination of the above."
      ],
      "metadata": {
        "id": "86bgt9dtMWJB"
      }
    },
    {
      "cell_type": "code",
      "source": [
        "class Animal:\n",
        "  def __init__(self, name):\n",
        "    self.name = name\n",
        "\n",
        "  def speak(self):\n",
        "    return f\"{self.name} makes a sound.\"\n",
        "\n",
        "# child class inherits from animal\n",
        "class Dog(Animal):\n",
        "  def speak(self):  # overriding parent method\n",
        "    return f\"{self.name} says Woof!\"\n",
        "\n",
        "class Cat(Animal):\n",
        "  def speak(self):  #overriding parent method\n",
        "    return f\"{self.name} says Meow!\"\n",
        "\n",
        "\n",
        "#usage\n",
        "dog = Dog(\"Buddy\")\n",
        "cat = Cat(\"Whiskers\")\n",
        "\n",
        "print(dog.speak())\n",
        "print(cat.speak())"
      ],
      "metadata": {
        "colab": {
          "base_uri": "https://localhost:8080/"
        },
        "id": "rtBjwZ8SPxkX",
        "outputId": "80d51c1a-6402-4ef4-c33c-6934e913535a"
      },
      "execution_count": 51,
      "outputs": [
        {
          "output_type": "stream",
          "name": "stdout",
          "text": [
            "Buddy says Woof!\n",
            "Whiskers says Meow!\n"
          ]
        }
      ]
    },
    {
      "cell_type": "markdown",
      "source": [
        "<h2><b>Ques_7) What is polymorphism in OOP?</h2></b>\n",
        "\n",
        "-> The word <b>Polymorphism</b> comes from greek:\n",
        "\n",
        "- Poly = many\n",
        "- Morphism = forms\n",
        "\n",
        "In OOP, <b>Polymorphism</b> means \"One interface, many implementations\".\n",
        "\n",
        "It allows <b>different classes</b> to use same method name, but each class defines its own behaviour.\n",
        "\n",
        "<h3><b>Real-Life Analogy</h3></b>\n",
        "\n",
        "Think of the verb “draw” :\n",
        "\n",
        "- An artist draws a painting.\n",
        "\n",
        "- A child draws with crayons.\n",
        "\n",
        "- A gun draws bullets.\n",
        "\n",
        "Same word “draw”, but the action depends on who/what is performing it.<br>\n",
        "That’s polymorphism.\n",
        "\n",
        "<h3><b>Types of Polymorphism</h3></b>\n",
        "\n",
        "1. <b>Compile-time (Overloading)</b> - Same function name, different parameters.(Not directly supported in Python, Python achieves it differently using default args or *args)\n",
        "\n",
        "2. <b>Runtime (Overiding)</b>: A child class overrides a parent method with its own version. (Python supports this directly)."
      ],
      "metadata": {
        "id": "v2JSueu-RTPN"
      }
    },
    {
      "cell_type": "code",
      "source": [
        "class Bird:\n",
        "    def speak(self):\n",
        "        return \"Birds make sounds \"\n",
        "\n",
        "class Parrot(Bird):\n",
        "    def speak(self):  # overriding\n",
        "        return \"Parrot says: Hello! \"\n",
        "\n",
        "class Crow(Bird):\n",
        "    def speak(self):  # overriding\n",
        "        return \"Crow says: Caw Caw \"\n",
        "\n",
        "# Polymorphism in action\n",
        "for bird in [Parrot(), Crow(), Bird()]:\n",
        "    print(bird.speak())\n"
      ],
      "metadata": {
        "colab": {
          "base_uri": "https://localhost:8080/"
        },
        "id": "WPRsA__CZQi0",
        "outputId": "8db3aa47-599e-44bf-d750-808e03738bfe"
      },
      "execution_count": 52,
      "outputs": [
        {
          "output_type": "stream",
          "name": "stdout",
          "text": [
            "Parrot says: Hello! \n",
            "Crow says: Caw Caw \n",
            "Birds make sounds \n"
          ]
        }
      ]
    },
    {
      "cell_type": "markdown",
      "source": [
        "Same method name <b>speak()</b>, but <b>different behaviour depending on the object.</b>\n",
        "\n",
        "<h3>Key-Benefits</h3>\n",
        "\n",
        "- Makes code more flexible and reusable.\n",
        "- Allows you to use <b>common interfaces</b> while hiding internal differences.\n",
        "- Supports <b>method overriding</b> for specialized behaviour."
      ],
      "metadata": {
        "id": "UhIARlqWojey"
      }
    },
    {
      "cell_type": "markdown",
      "source": [
        "<h2><b>Ques_8) How is encapsulation achieved in Python?</h2></b>\n",
        "\n",
        "-> Encapsulation in OOP means <b>hiding the internal details of an object</b> and only exposing what is necessary.\n",
        "\n",
        "- Think of it as \"<b>data protection + Controlled access.</b>\n",
        "\n",
        "- In Python, encapsulation is mainly done by using <b>access modifiers</b> (naming conventions).\n",
        "\n",
        "\n",
        "<h3><b>Real-Life Analogy</h3></b>\n",
        "\n",
        "Imagine a <b>capsule</b> of medicine 💊:\n",
        "\n",
        "- You only see the outer shell (public interface).\n",
        "\n",
        "- The chemical inside (data) is hidden and protected.\n",
        "\n",
        "- You can’t directly touch the medicine inside, but you can take it safely in a controlled way.\n",
        "\n",
        "Same with objects → internal details are hidden, access is controlled via methods.\n",
        "\n",
        "\n",
        "<h3><b>How Encapsulation is Achieved in Python</h3></b>\n",
        "\n",
        "Pyhton doesn't have strict private keywords like Java or C++. Instead, it uses <b>naming conventions</b>.\n",
        "\n",
        "1.<b>Public Attributes/Methods:</b> Accessible everywhere.\n",
        "\n",
        "2.<b>Protected Attributes/Methods</b>(Convention: one underscore _ ) -> Should not be accessed directly but still possible.\n",
        "\n",
        "3.<b>Private Attributes/Methods</b>(Convention: double underscore) -> Harder to access from outside the class.\n",
        "\n",
        "Example to understand:"
      ],
      "metadata": {
        "id": "m23NwYuQrDvD"
      }
    },
    {
      "cell_type": "code",
      "source": [
        "class Employee:\n",
        "    def __init__(self, name, salary):\n",
        "        self.name = name          # public\n",
        "        self._department = \"HR\"   # protected\n",
        "        self.__salary = salary    # private\n",
        "\n",
        "    # Getter method to access private variable\n",
        "    def get_salary(self):\n",
        "        return f\"Salary of {self.name} is {self.__salary}\"\n",
        "\n",
        "    # Setter method to modify private variable safely\n",
        "    def set_salary(self, new_salary):\n",
        "        if new_salary > 0:\n",
        "            self.__salary = new_salary\n",
        "        else:\n",
        "            print(\"Invalid salary!\")\n",
        "\n",
        "# usage\n",
        "emp = Employee(\"Alice\", 50000)\n",
        "\n",
        "print(emp.name)           #  Public, accessible\n",
        "print(emp._department)    #  Technically accessible, but not recommended\n",
        "# print(emp.__salary)     #  Error (AttributeError)\n",
        "\n",
        "print(emp.get_salary())   #  Access private safely via method\n",
        "\n",
        "emp.set_salary(60000)     #  Change safely\n",
        "print(emp.get_salary())\n"
      ],
      "metadata": {
        "colab": {
          "base_uri": "https://localhost:8080/"
        },
        "id": "UzywSgj-wt51",
        "outputId": "ce87b436-d84f-4fc5-929d-9fb54e91d94f"
      },
      "execution_count": 53,
      "outputs": [
        {
          "output_type": "stream",
          "name": "stdout",
          "text": [
            "Alice\n",
            "HR\n",
            "Salary of Alice is 50000\n",
            "Salary of Alice is 60000\n"
          ]
        }
      ]
    },
    {
      "cell_type": "markdown",
      "source": [
        "<h3><b>Key Takeaways</h3></b>\n",
        "\n",
        "*  Encapsulation = <b>Hiding data +controlles access.</b>\n",
        "- Achieved using:\n",
        "\n",
        "    - Public(name)\n",
        "    - Protected(_name)\n",
        "    - Private(__name)\n",
        "- Use <b>Getters and Setters</b> (methods) to control private data.\n",
        "\n"
      ],
      "metadata": {
        "id": "f69o1GbuycuU"
      }
    },
    {
      "cell_type": "markdown",
      "source": [
        "<h2><b>Ques_9) What is a constructor in Python?</h2></b>\n",
        "\n",
        "-> A <b>constructor</b> is a special method in a class that <b>runs automatically</b> whenever a new object is created.\n",
        "\n",
        "- In Python, the constructor method is __init__.\n",
        "\n",
        "- It is mainly used to initialize (set up) object properties (attributes).\n",
        "\n",
        "<h3><b> Constructor Syntax in Python</h3></b>"
      ],
      "metadata": {
        "id": "tOzHoUW-zdxr"
      }
    },
    {
      "cell_type": "code",
      "source": [
        "# Cunstructor Syntax\n",
        "\n",
        "class ClassName:\n",
        "    def __init__(self, parameters):\n",
        "        # initialization code\n",
        "        self.attribute = parameters\n"
      ],
      "metadata": {
        "id": "roElR77lwyc6"
      },
      "execution_count": 54,
      "outputs": []
    },
    {
      "cell_type": "markdown",
      "source": [
        "<h3><b>Example</h3></b>"
      ],
      "metadata": {
        "id": "Ew6eoGoQ0y0V"
      }
    },
    {
      "cell_type": "code",
      "source": [
        "class Student:\n",
        "    def __init__(self, name, age):   # constructor\n",
        "        self.name = name             # initializing attributes\n",
        "        self.age = age\n",
        "\n",
        "    def display(self):\n",
        "        print(f\"Student: {self.name}, Age: {self.age}\")\n",
        "\n",
        "# usage\n",
        "s1 = Student(\"Alice\", 20)   # constructor is called automatically\n",
        "s2 = Student(\"Bob\", 22)\n",
        "\n",
        "s1.display()   # Student: Alice, Age: 20\n",
        "s2.display()   # Student: Bob, Age: 22\n"
      ],
      "metadata": {
        "colab": {
          "base_uri": "https://localhost:8080/"
        },
        "id": "ImB87X8204qY",
        "outputId": "a21fb185-68a7-4524-a6de-e4b59886db77"
      },
      "execution_count": 55,
      "outputs": [
        {
          "output_type": "stream",
          "name": "stdout",
          "text": [
            "Student: Alice, Age: 20\n",
            "Student: Bob, Age: 22\n"
          ]
        }
      ]
    },
    {
      "cell_type": "markdown",
      "source": [
        "Here, when s1 = Student(\"Alice\", 20) is created, Python automatically calls __init__ and sets up the object with name=\"Alice\" and age=20."
      ],
      "metadata": {
        "id": "ZdgMnzu71cPp"
      }
    },
    {
      "cell_type": "markdown",
      "source": [
        "<h3><b>Types of Constructors in Python:</h3></b>\n",
        "\n",
        "1.<b>Default Constructor</B>\n",
        "- Takes only self and no other arguments.\n"
      ],
      "metadata": {
        "id": "6uzlrhe_1fCw"
      }
    },
    {
      "cell_type": "code",
      "source": [
        "class Demo:\n",
        "    def __init__(self):\n",
        "        print(\"Default constructor called\")\n",
        "\n",
        "d = Demo()   # automatically runs constructor\n"
      ],
      "metadata": {
        "colab": {
          "base_uri": "https://localhost:8080/"
        },
        "id": "H9Mb4i4L19ES",
        "outputId": "2cb4485c-3850-4fa9-985a-511b733750d2"
      },
      "execution_count": 56,
      "outputs": [
        {
          "output_type": "stream",
          "name": "stdout",
          "text": [
            "Default constructor called\n"
          ]
        }
      ]
    },
    {
      "cell_type": "markdown",
      "source": [
        "2.<h3><b>Parameterized Constructor</h3></b>:\n",
        "- Takes self and additional arguments\n",
        "\n",
        "\n",
        "\n",
        "<h3><b>Key Points</h3></b>\n",
        "- __init__ is the constructor in python.\n",
        "\n",
        "- Called automatically whenever an object is created.\n",
        "\n",
        "- Used to initialize attributes.\n",
        "\n",
        "- Can be default(no extra args) or parameterized.\n",
        "\n",
        "\n"
      ],
      "metadata": {
        "id": "6IByb0f22CcW"
      }
    },
    {
      "cell_type": "markdown",
      "source": [
        "<h2><b>Ques_10) What are class and static methods in Python?</h3></b>\n",
        "\n",
        "-> <h3><b>Class Method</h3></b>\n",
        "\n",
        "- Defined using @classmethod.\n",
        "\n",
        "- First argument is cls → refers to the class itself, not the object.\n",
        "\n",
        "- Used to work with class variables or define factory methods (alternative constructors)."
      ],
      "metadata": {
        "id": "m0jq7YTp2_hi"
      }
    },
    {
      "cell_type": "code",
      "source": [
        "class Student:\n",
        "    school = \"Greenwood High\"  # class variable\n",
        "\n",
        "    def __init__(self, name):\n",
        "        self.name = name\n",
        "\n",
        "    @classmethod\n",
        "    def change_school(cls, new_school):\n",
        "        cls.school = new_school  # modifies class variable\n",
        "\n",
        "s1 = Student(\"Alice\")\n",
        "s2 = Student(\"Bob\")\n",
        "\n",
        "print(s1.school)   # Greenwood High\n",
        "Student.change_school(\"Sunrise Academy\")  # called on class itself\n",
        "print(s2.school)   # Sunrise Academy\n"
      ],
      "metadata": {
        "colab": {
          "base_uri": "https://localhost:8080/"
        },
        "id": "RiY5VDdc3jbI",
        "outputId": "a9e29e1f-3ed4-4033-da39-2459341ceca0"
      },
      "execution_count": 57,
      "outputs": [
        {
          "output_type": "stream",
          "name": "stdout",
          "text": [
            "Greenwood High\n",
            "Sunrise Academy\n"
          ]
        }
      ]
    },
    {
      "cell_type": "markdown",
      "source": [
        "<h3><b> Static Method</h3></b>\n",
        "\n",
        "- Defined using @staticmethod.\n",
        "\n",
        "- Doesn’t take self or cls.\n",
        "\n",
        "- Behaves like a normal function, but is kept inside a class for logical grouping."
      ],
      "metadata": {
        "id": "rZ_Er2Tc3uhG"
      }
    },
    {
      "cell_type": "code",
      "source": [
        "class MathUtils:\n",
        "    @staticmethod\n",
        "    def add(a, b):\n",
        "        return a + b\n",
        "\n",
        "    @staticmethod\n",
        "    def is_even(num):\n",
        "        return num % 2 == 0\n",
        "\n",
        "print(MathUtils.add(5, 3))      # 8\n",
        "print(MathUtils.is_even(10))    # True\n"
      ],
      "metadata": {
        "colab": {
          "base_uri": "https://localhost:8080/"
        },
        "id": "_ENe7DYu34vY",
        "outputId": "76759dda-f520-4806-d676-5043cac40c3f"
      },
      "execution_count": 58,
      "outputs": [
        {
          "output_type": "stream",
          "name": "stdout",
          "text": [
            "8\n",
            "True\n"
          ]
        }
      ]
    },
    {
      "cell_type": "markdown",
      "source": [
        "<h3>Key Differences</h3>\n",
        "\n",
        "- Self = object - level(instance method)\n",
        "- cls = class - level(class method)\n",
        "- nothing(static method)  - independent"
      ],
      "metadata": {
        "id": "t3W6oQSh3_iP"
      }
    },
    {
      "cell_type": "markdown",
      "source": [
        "<h2><b>Ques_11) What is method overloading in Python?</h2></b>\n",
        "\n",
        "-><i>Method overloading</i> means having <b>multiple methods with the same name but different parameters</b> (number or type of arguments).\n",
        "\n",
        "- Python <b>does not support traditional method overloading</b> like Java or C++.\n",
        "\n",
        "If you define multiple methods with the same name in a class, the<b> latest definition overwrites the previous one:</b>"
      ],
      "metadata": {
        "id": "Irk81MbJVvPn"
      }
    },
    {
      "cell_type": "code",
      "source": [
        "class Test:\n",
        "  def Hello(self, name):\n",
        "    print(\"Hello\", name)\n",
        "\n",
        "  def Hello(self, name, age):\n",
        "    print(\"Hello\", name, \"Age\", age)\n",
        "\n",
        "t = Test()\n",
        "# t.Hello(\"Alice\")  # Error: missing 1 required positional argument.\n",
        "t.Hello(\"Alice\", 20)  # works."
      ],
      "metadata": {
        "colab": {
          "base_uri": "https://localhost:8080/"
        },
        "id": "SHeOPBlflDds",
        "outputId": "ff19b118-feca-486e-9560-0a404a140fcc"
      },
      "execution_count": 59,
      "outputs": [
        {
          "output_type": "stream",
          "name": "stdout",
          "text": [
            "Hello Alice Age 20\n"
          ]
        }
      ]
    },
    {
      "cell_type": "markdown",
      "source": [
        "<h3><b>How to achieve Overloading-like Behaviour in Python?</h3></b>\n",
        "\n",
        "Since Python does not support it directly, we <b>simulate it</b> using:\n",
        "\n",
        "1. <b>Default Arguments</b>:"
      ],
      "metadata": {
        "id": "jeRyBiznpSHK"
      }
    },
    {
      "cell_type": "code",
      "source": [
        "class Test:\n",
        "  def hello(self, name=None, age=None):\n",
        "    if name and age:\n",
        "      print(\"Hello\", name, \"Age\", age)\n",
        "    elif name:\n",
        "      print(\"Hello\", name)\n",
        "    else:\n",
        "      print(\"Hello stranger\")\n",
        "\n",
        "obj = Test()\n",
        "obj.hello()\n",
        "obj.hello(\"Nishita\")\n",
        "obj.hello(\"Nishita\", 20)"
      ],
      "metadata": {
        "colab": {
          "base_uri": "https://localhost:8080/"
        },
        "id": "B4MPgz9Yp1b3",
        "outputId": "9774f6c8-9523-414d-e598-6a22720e1b3b"
      },
      "execution_count": 60,
      "outputs": [
        {
          "output_type": "stream",
          "name": "stdout",
          "text": [
            "Hello stranger\n",
            "Hello Nishita\n",
            "Hello Nishita Age 20\n"
          ]
        }
      ]
    },
    {
      "cell_type": "markdown",
      "source": [
        "2.<b> Variable-length arguments (*args, **kwargs):</b>"
      ],
      "metadata": {
        "id": "LRqu8qUXqmi7"
      }
    },
    {
      "cell_type": "code",
      "source": [
        "class Math:\n",
        "  def add(self, *args):\n",
        "    return sum(args)\n",
        "\n",
        "m = Math()\n",
        "print(m.add(1, 2,))\n",
        "print(m.add(1, 2, 3))\n",
        "print(m.add(1, 2, 3, 4))"
      ],
      "metadata": {
        "colab": {
          "base_uri": "https://localhost:8080/"
        },
        "id": "eq0IfTIDq6Qc",
        "outputId": "77fa6916-ebd3-421f-98e1-742e3ed8be9b"
      },
      "execution_count": 61,
      "outputs": [
        {
          "output_type": "stream",
          "name": "stdout",
          "text": [
            "3\n",
            "6\n",
            "10\n"
          ]
        }
      ]
    },
    {
      "cell_type": "markdown",
      "source": [
        "3.<b> <i>singledispatch</i> (Function Overloading via <i>functools</i>"
      ],
      "metadata": {
        "id": "V_Sd2uograhK"
      }
    },
    {
      "cell_type": "code",
      "source": [
        "from functools import singledispatchmethod\n",
        "\n",
        "class Greet:\n",
        "    @singledispatchmethod  #  this allows you to create method overloading\n",
        "    def hello(self, arg):  #  it runs if no other matching arguments is found\n",
        "        print(\"Hello, something\")\n",
        "\n",
        "    @hello.register  #  This registers specialized version of hello() that only works when the argument is a string\n",
        "    def _(self, name: str):\n",
        "        print(\"Hello\", name)\n",
        "\n",
        "    @hello.register  #  registers another specialized method\n",
        "    def _(self, age: int):\n",
        "        print(\"You are\", age, \"years old\")\n",
        "\n",
        "g = Greet()\n",
        "g.hello(\"Nishita\")   #  Hello Nishita\n",
        "g.hello(21)          #  You are 21 years old\n"
      ],
      "metadata": {
        "colab": {
          "base_uri": "https://localhost:8080/"
        },
        "id": "7aj2R6t8rwKg",
        "outputId": "b7750a9f-9b1d-4cac-eb7a-51d3db626b79"
      },
      "execution_count": 62,
      "outputs": [
        {
          "output_type": "stream",
          "name": "stdout",
          "text": [
            "Hello Nishita\n",
            "You are 21 years old\n"
          ]
        }
      ]
    },
    {
      "cell_type": "markdown",
      "source": [
        "<h3><b>In short</h3></b>\n",
        "\n",
        "- Python doesn't have true method overloading.\n",
        "\n",
        "- Instead,we achieve similar flexibility using <b>default arguments,  *args/**kwargs, or <i>singledispatch</i>\n",
        "decorators.</b>"
      ],
      "metadata": {
        "id": "VBJ6rrWmuCwd"
      }
    },
    {
      "cell_type": "markdown",
      "source": [
        "<h2><b>Ques_12) What is method overriding in OOP?</h2></b>\n",
        "\n",
        "-> <i>Method overriding</i> happens when the child class(subclass) defines a method with <b>same name and signature</b> as a method in its <b>parent class (superclass).</b>\n",
        "\n",
        "- In this case the <b>child's version overrides (replaces)</b> the parent's version when called on a child object.\n",
        "\n",
        "\n",
        "Example:"
      ],
      "metadata": {
        "id": "YJPavNa4xzZ7"
      }
    },
    {
      "cell_type": "code",
      "source": [
        "class Father:\n",
        "  def father_property(self):\n",
        "    print(\"This is father's property\")\n",
        "\n",
        "class Child(Father):\n",
        "  def job(self):\n",
        "    print(\"Child bought his own property\")\n",
        "    # overrides the parent method\n",
        "  def father_property(self):\n",
        "    print(\"Somehow, father's property is also child's\")\n",
        "\n",
        "#usage\n",
        "father_obj = Father()\n",
        "father_obj.father_property()\n",
        "\n",
        "child_obj = Child()\n",
        "child_obj.job()\n",
        "child_obj.father_property()"
      ],
      "metadata": {
        "colab": {
          "base_uri": "https://localhost:8080/"
        },
        "id": "ccgWIQQiz28I",
        "outputId": "255281cf-6833-4a6e-964e-c1ea014a1e39"
      },
      "execution_count": 63,
      "outputs": [
        {
          "output_type": "stream",
          "name": "stdout",
          "text": [
            "This is father's property\n",
            "Child bought his own property\n",
            "Somehow, father's property is also child's\n"
          ]
        }
      ]
    },
    {
      "cell_type": "markdown",
      "source": [
        "<h3><b>Key Points</h3></b>\n",
        "\n",
        "1. Overriding happens in <b>inheritance</b> only (Parent - child relationship).\n",
        "\n",
        "2. The <b>method name and parameters must be same </b> in both parent and child.\n",
        "\n",
        "3. Child's method replaces the parent's method when called on child objects.\n",
        "\n",
        "3. If you still want to access the parent's version, you can use <mark>super()</mark>\n",
        "\n",
        "Example with super()"
      ],
      "metadata": {
        "id": "rmM-vprU2AnX"
      }
    },
    {
      "cell_type": "code",
      "source": [
        "class Vehicle:\n",
        "    def start(self):\n",
        "        print(\"Starting vehicle...\")\n",
        "\n",
        "class Car(Vehicle):\n",
        "    def start(self):\n",
        "        super().start()   # Call parent method first\n",
        "        print(\"Car engine started!\")\n",
        "\n",
        "c = Car()\n",
        "c.start()\n"
      ],
      "metadata": {
        "colab": {
          "base_uri": "https://localhost:8080/"
        },
        "id": "RKE6iCKHMSEp",
        "outputId": "58e31c75-ebf0-44bd-c9a0-051dfe35882a"
      },
      "execution_count": 64,
      "outputs": [
        {
          "output_type": "stream",
          "name": "stdout",
          "text": [
            "Starting vehicle...\n",
            "Car engine started!\n"
          ]
        }
      ]
    },
    {
      "cell_type": "markdown",
      "source": [
        "<h2><b>Ques_13)  What is a property decorator in Python?</h2></b>\n",
        "\n",
        "-> In Python, the <mark><i>@property</mark></i> decorator is used to <b>make a method act like an attribute.</b>\n",
        "\n",
        "- it let's you access methods like variables.\n",
        "\n",
        "- it's mainly used for <b>getter, setter, deleter</b> in classes."
      ],
      "metadata": {
        "id": "8MNqoZg3NmtZ"
      }
    },
    {
      "cell_type": "markdown",
      "source": [
        "<h3><b>Why do we need it?</h3></b>\n",
        "\n",
        "\n",
        "Without @property, you often write <b>getters and setters</b> like in Java:\n"
      ],
      "metadata": {
        "id": "0e2Rb3rrOylo"
      }
    },
    {
      "cell_type": "code",
      "source": [
        "class Student :\n",
        "  def __init__(self, name):\n",
        "    self._name = name  # private variable (by convention)\n",
        "\n",
        "  def get_name(self):\n",
        "    return self._name\n",
        "\n",
        "  def set_name(self, value):\n",
        "    self._name = value\n",
        "\n",
        "# usage\n",
        "s = Student(\"Harsh\")\n",
        "print(s.get_name())  # calling method\n",
        "s.set_name(\"Nishita\")  # updating value\n",
        "print(s.get_name())"
      ],
      "metadata": {
        "colab": {
          "base_uri": "https://localhost:8080/"
        },
        "id": "kRhQZ-NcNDgk",
        "outputId": "3bdd064a-f584-4d13-c5f6-a7ce55e8ad6b"
      },
      "execution_count": 65,
      "outputs": [
        {
          "output_type": "stream",
          "name": "stdout",
          "text": [
            "Harsh\n",
            "Nishita\n"
          ]
        }
      ]
    },
    {
      "cell_type": "markdown",
      "source": [
        "This is verbose. Wouldn’t it be nicer to use it like a variable?\n",
        "\n",
        "<b>With <i>@property</i>"
      ],
      "metadata": {
        "id": "O0mRfygKRjCU"
      }
    },
    {
      "cell_type": "code",
      "source": [
        "class Student:\n",
        "  def __init__(self, name):\n",
        "    self._name = name\n",
        "\n",
        "  @property\n",
        "  def name(self):\n",
        "    return self._name\n",
        "\n",
        "  @name.setter\n",
        "  def name(self, value):   # setter\n",
        "    self._name = value\n",
        "\n",
        "  @name.deleter\n",
        "  def name(self):\n",
        "    print(\"Deleting name...\")\n",
        "    del self._name\n",
        "\n",
        "\n",
        "# usage\n",
        "s = Student(\"Harsh\")\n",
        "\n",
        "print(s.name)  # calling method\n",
        "s.name = \"Nishita\"  # updating value\n",
        "print(s.name)\n",
        "\n",
        "del s.name  # deleting value"
      ],
      "metadata": {
        "colab": {
          "base_uri": "https://localhost:8080/"
        },
        "id": "bWinf6jyRxNB",
        "outputId": "524c215c-9524-482e-d5e1-b061a9622af9"
      },
      "execution_count": 66,
      "outputs": [
        {
          "output_type": "stream",
          "name": "stdout",
          "text": [
            "Harsh\n",
            "Nishita\n",
            "Deleting name...\n"
          ]
        }
      ]
    },
    {
      "cell_type": "markdown",
      "source": [
        "Why is this useful?\n",
        "\n",
        "Cleaner syntax → access methods like attributes.\n",
        "\n",
        "Encapsulation → control how attributes are read/written/deleted.\n",
        "\n",
        "Validation → e.g., check that age is positive before setting it."
      ],
      "metadata": {
        "id": "fSNh6cEoTd5Q"
      }
    },
    {
      "cell_type": "markdown",
      "source": [
        "<b><h3>Ques_14) H Why is polymorphism important in OOP?</b></h3>\n",
        "\n",
        "-> <b>What is Polymorphism?</b>\n",
        "\n",
        "Polymorphism = \"many forms\" (from Greek: poly = many, morph = forms).\n",
        "\n",
        " In OOP, polymorphism means the same function/method name can behave differently depending on the object it is acting on.\n",
        "\n",
        "<b> Why is Polymorphism important?</b>\n",
        " 1. <b>Code reusability</b>\n",
        "  \n",
        "- You can write generic code that works for different objects.\n",
        "\n",
        "- Example: print(animal.sound()) works whether animal is a Dog, Cat, or Cow.\n",
        "\n",
        " 2. <b> Flexiility and Extensibility</b>\n",
        "\n",
        "\n",
        "- you can add new classes without changing existing code.\n",
        "\n",
        "- Example: Add a new class Bird with sound(), and existing code using animal.sount() still works.\n",
        "\n",
        "3. <B>Abstraction</B>\n",
        "\n",
        "- It hides implementation details.\n",
        "\n",
        "- You don’t care how each class implements sound(), you just call it.\n",
        "\n",
        "4. <b>Improves Readability and Maintainability</b>\n",
        "\n",
        "- Code looks cleaner because you don’t need long if-else chains checking types.\n",
        "\n"
      ],
      "metadata": {
        "id": "3KhT43RkTnNp"
      }
    },
    {
      "cell_type": "code",
      "source": [
        "class Animal:\n",
        "  def sound(self):\n",
        "    pass  # Abstract method\n",
        "\n",
        "class Dog(Animal):\n",
        "  def sound(self):\n",
        "    return \"Woof!\"\n",
        "\n",
        "class Cat(Animal):\n",
        "  def sound(self):\n",
        "    return \"Meow!\"\n",
        "\n",
        "class Cow(Animal):\n",
        "  def sound(self):\n",
        "    return \"Moo!\"\n",
        "\n",
        "# Polymorphism in action\n",
        "animals = [Dog(), Cat(), Cow()]\n",
        "for animal in animals:\n",
        "  print(animal.sound())\n",
        "\n"
      ],
      "metadata": {
        "colab": {
          "base_uri": "https://localhost:8080/"
        },
        "id": "rCeaR_HqWb4t",
        "outputId": "b691d708-fea4-4f69-831b-f82388a43d4a"
      },
      "execution_count": 67,
      "outputs": [
        {
          "output_type": "stream",
          "name": "stdout",
          "text": [
            "Woof!\n",
            "Meow!\n",
            "Moo!\n"
          ]
        }
      ]
    },
    {
      "cell_type": "markdown",
      "source": [
        "<i><b>Notice: </b></i> The same method call <mark>.sound</mark> produces different results depending upon the object."
      ],
      "metadata": {
        "id": "N49PTwtiXoAU"
      }
    },
    {
      "cell_type": "markdown",
      "source": [
        "<h2><b>Ques_15) What is an abstract class in Python?</h2></b>\n",
        "\n",
        "-> <h3><b>Abstraction in OOP</h3></b>\n",
        "\n",
        " means <b>hiding complex details and only showing essential features</b>.\n",
        "\n",
        "An Abstract Class in Python is a class that:\n",
        "\n",
        "- should always be subclassed.\n",
        "\n",
        "- cannot be instantiated directly (you can’t make objects from it).\n",
        "\n",
        "- is meant to be a blueprint for other classes.\n",
        "\n",
        "- contains one or more abstract methods (methods declared but not implemented).\n",
        "\n",
        "In Python, abstract classes are defines using the <mark><i>abc</mark></i> module (<B>A</b>bstract <b>B</b>ase <b>C</b>lass)\n",
        "\n",
        "<h3><b>Why do we need Abstract Classes?</h3></b>\n",
        "\n",
        "1. To force child classes to implement certain methods.\n",
        "\n",
        "2. To define a common interface for related classes.\n",
        "\n",
        "3. To achieve polymorphism (different subclasses implementing the same method in their own way).\n",
        "\n",
        "Example:\n",
        "\n"
      ],
      "metadata": {
        "id": "NDjtgvz3YTeL"
      }
    },
    {
      "cell_type": "code",
      "source": [
        "from abc import ABC, abstractmethod\n",
        "\n",
        "class Animal(ABC):   # Abstract class\n",
        "    @abstractmethod\n",
        "    def sound(self):   # Abstract method (no implementation)\n",
        "        pass\n",
        "\n",
        "    def breathe(self):  # Normal method (can have implementation)\n",
        "        print(\"All animals breathe\")\n",
        "\n",
        "class Dog(Animal):\n",
        "    def sound(self):   # Must implement abstract method\n",
        "        return \"Woof!\"\n",
        "\n",
        "class Cat(Animal):\n",
        "    def sound(self):\n",
        "        return \"Meow!\"\n",
        "\n",
        "# Usage\n",
        "# a = Animal()   #  Error: Can't instantiate abstract class\n",
        "d = Dog()\n",
        "c = Cat()\n",
        "\n",
        "print(d.sound())   # Woof!\n",
        "print(c.sound())   # Meow!\n",
        "d.breathe()        # Inherited normal method\n"
      ],
      "metadata": {
        "id": "LNY11Td2dLxe",
        "colab": {
          "base_uri": "https://localhost:8080/"
        },
        "outputId": "f373d7ef-b7b5-493f-f49c-870dc05f4d1e"
      },
      "execution_count": 68,
      "outputs": [
        {
          "output_type": "stream",
          "name": "stdout",
          "text": [
            "Woof!\n",
            "Meow!\n",
            "All animals breathe\n"
          ]
        }
      ]
    },
    {
      "cell_type": "markdown",
      "source": [
        "<h3><b>Key Points:</h3></b>\n",
        "\n",
        "1. Abstract class = a class that cannot be directly instantiated.\n",
        "\n",
        "2. Must inherit from ABC (from abc module).\n",
        "\n",
        "3. Abstract methods are marked with @abstractmethod and must be implemented by subclasses.\n",
        "\n",
        "4. Can also contain normal methods with full implementation.\n",
        "\n",
        "5. Subclasses must implement all abstract methods, or they too become abstract."
      ],
      "metadata": {
        "id": "jD4pAjwVeKeD"
      }
    },
    {
      "cell_type": "markdown",
      "source": [
        "<h2><b>Ques_16) What are the advantages of OOP?</h2></b>\n",
        "\n",
        "-> <h3><b>Advantages of OOP</h3></b>\n",
        "\n",
        "1. <b>Modularity (Code Organization) </b>\n",
        "\n",
        "- OOP organizes code into classes & objects, making it easier to manage.\n",
        "\n",
        "- Each class handles its own responsibilities.\n",
        "\n",
        "Example: A Car class handles car-related features, while a BankAccount class handles money-related features.\n",
        "\n",
        "2. <b>Reusability</b>\n",
        "\n",
        "- Once a class is written, it can be reused across programs without rewriting code.\n",
        "\n",
        "- With inheritance, new classes can reuse existing ones and only add/modify what’s needed.\n",
        "\n",
        "Dog and Cat can reuse the Animal class instead of rewriting breathe().\n",
        "\n",
        "3. <b> Encapsulation</b>\n",
        "\n",
        "- OOP allows hiding internal details of an object (like private variables) and exposing only what’s necessary via methods.  \n",
        "\n",
        "- Prevents accidental modification of data.\n",
        "\n",
        "Example: A BankAccount hides the balance variable and only allows deposits/withdrawals via methods.\n",
        "\n",
        "4. <b> Polymorphism(Flexibility)</b>\n",
        "\n",
        "- The same interface can represent different forms.\n",
        "\n",
        "- Allows one function to work with many object types.\n",
        "\n",
        "Example:\n",
        "animal.sound() works for Dog, Cat, or Cow without changing code.\n",
        "\n",
        "5. <b>Inheritance (Code Reusability)</b>\n",
        "\n",
        "- A child class can inherit properties/methods from a parent class.\n",
        "\n",
        "- Avoids code duplication and makes extension easier.\n",
        "\n",
        "Example:\n",
        "ElectricCar can inherit from Car and add battery features.\n",
        "\n",
        "6. <b>Abstraction (Hiding Complexity)</b>\n",
        "\n",
        "- Lets you work with high-level concepts while hiding low-level details.\n",
        "\n",
        "- User focuses on what an object does, not how it does it.\n",
        "\n",
        "Example:\n",
        "When you call car.start(), you don’t need to know the internal wiring of the ignition system.\n",
        "\n",
        "7. <b>Easy Maintenance and Scalability</b>\n",
        "\n",
        "-  Since code is modular (split into classes), debugging and updating become easier.\n",
        "- Large projects become manageable as teams can work on separate classes independently.\n",
        "\n",
        "8. <b>Improves Productivity</b>\n",
        "\n",
        "- Reuse + modularity + abstraction = faster development.\n",
        "\n",
        "- Encourages clean, structured, and logical design, making it easier to collaborate in teams.\n",
        "\n",
        "\n",
        "<h3>In short:</h3>\n",
        "\n",
        "The advantages of OOP are modularity, reusability, encapsulation, polymorphism, inheritance, abstraction, maintainability, and scalability — all of which make coding cleaner, safer, and more efficient."
      ],
      "metadata": {
        "id": "zDAQFCjRemry"
      }
    },
    {
      "cell_type": "markdown",
      "source": [
        "<h2><b>Ques_17) What is the difference between a class variable and an instance variable? </h2></b>\n",
        "\n",
        "-> <b> 1. Class Variable</b>\n",
        "- Belongs to the class itself, shared by all objects.\n",
        "\n",
        "- Defined inside the class but outside any methods.\n",
        "\n",
        "- If changed using the class name, it affects all instances.\n",
        "\n",
        "Example:\n"
      ],
      "metadata": {
        "id": "tehRA_7Uiwqx"
      }
    },
    {
      "cell_type": "code",
      "source": [
        "class Student:\n",
        "  school_name = \"ABC scchool\"  # class variable (shared)\n",
        "\n",
        "  def __init__(self, name):\n",
        "    self.name = name   # Instance variable (unique)\n",
        "\n",
        "s1 = Student(\"Harsh\")\n",
        "s2 = Student(\"Nishita\")\n",
        "\n",
        "print(s1.name,\"from\",s1.school_name)  # Harsh from ABC scchool\n",
        "print(s2.name, \"from\", s2.school_name)  # Nishita from ABC scchool\n",
        "\n",
        "# Changing class variable using class name\n",
        "Student.school_name = \"XYZ school\"\n",
        "\n",
        "print(s1.name, \"from\", s1.school_name)  # Harsh from XYZ school\n",
        "print(s2.name, \"from\", s2.school_name)  # Nishita from XYZ school\n",
        "\n"
      ],
      "metadata": {
        "colab": {
          "base_uri": "https://localhost:8080/"
        },
        "id": "JVOmdjXuqKUZ",
        "outputId": "82a547a2-ef5d-4426-a25d-f08bf9334d73"
      },
      "execution_count": 69,
      "outputs": [
        {
          "output_type": "stream",
          "name": "stdout",
          "text": [
            "Harsh from ABC scchool\n",
            "Nishita from ABC scchool\n",
            "Harsh from XYZ school\n",
            "Nishita from XYZ school\n"
          ]
        }
      ]
    },
    {
      "cell_type": "markdown",
      "source": [
        "<b>2. Instance Variable</b>\n",
        "\n",
        "* Belongs to a specific object(instance).\n",
        "\n",
        "- Defined inside the constructor (__init__) or other methods using self.\n",
        "\n",
        "- Each object gets its own copy\n",
        "\n",
        "Example:\n"
      ],
      "metadata": {
        "id": "-veVI6rRsQ2g"
      }
    },
    {
      "cell_type": "code",
      "source": [
        "class Student:\n",
        "    school_name = \"ABC School\"   # class variable\n",
        "\n",
        "    def __init__(self, name, age):\n",
        "        self.name = name    # instance variable\n",
        "        self.age = age      # instance variable\n",
        "\n",
        "s1 = Student(\"Nishita\", 21)\n",
        "s2 = Student(\"Riya\", 22)\n",
        "\n",
        "print(s1.name, s1.age)   # Nishita 21\n",
        "print(s2.name, s2.age)   # Riya 22\n",
        "\n",
        "s1.age = 23   # change only s1’s age\n",
        "print(s1.age)   # 23\n",
        "print(s2.age)   # 22 (unaffected)\n"
      ],
      "metadata": {
        "colab": {
          "base_uri": "https://localhost:8080/"
        },
        "id": "w7OJANa7tGCy",
        "outputId": "1e0f1449-0096-4576-a868-b57a6a1030d3"
      },
      "execution_count": 70,
      "outputs": [
        {
          "output_type": "stream",
          "name": "stdout",
          "text": [
            "Nishita 21\n",
            "Riya 22\n",
            "23\n",
            "22\n"
          ]
        }
      ]
    },
    {
      "cell_type": "markdown",
      "source": [
        "<b>In short</b>\n",
        "\n",
        "- Class variables are shared (like a school name).\n",
        "- Instance Variables are unique to each object(like a student's name and age)"
      ],
      "metadata": {
        "id": "AjPu_ARotvA3"
      }
    },
    {
      "cell_type": "markdown",
      "source": [
        "<h2><b>Ques_18) What is multiple inheritance in Python?</h2></b>\n",
        "\n",
        "-> <h4><b>Multiple Inheritance</h4></b>\n",
        "\n",
        "means a class can inherit from more than one parent class.\n",
        "\n",
        "- This allows child class to access the methods and attributes of multiple base classes.\n",
        "\n",
        "- Suntax:\n",
        "\n",
        "class Child(Parent1, Parent2, ...):\n",
        "    # body\n",
        "\n",
        "Example:\n"
      ],
      "metadata": {
        "id": "P-QA2SukuKQe"
      }
    },
    {
      "cell_type": "code",
      "source": [
        "class Father:\n",
        "    def skills(self):\n",
        "        print(\"Can drive a car\")\n",
        "\n",
        "class Mother:\n",
        "    def skills(self):\n",
        "        print(\"Can cook food\")\n",
        "\n",
        "class Child(Father, Mother):   # multiple inheritance\n",
        "    def skills(self):\n",
        "        super().skills()   # calls Father first (due to order)\n",
        "        print(\"Can play football\")\n",
        "\n",
        "c = Child()\n",
        "c.skills()\n"
      ],
      "metadata": {
        "colab": {
          "base_uri": "https://localhost:8080/"
        },
        "id": "Firt_4LSvbRh",
        "outputId": "e6d10fb5-6325-4d2e-e636-ff48fb0b9c22"
      },
      "execution_count": 71,
      "outputs": [
        {
          "output_type": "stream",
          "name": "stdout",
          "text": [
            "Can drive a car\n",
            "Can play football\n"
          ]
        }
      ]
    },
    {
      "cell_type": "markdown",
      "source": [
        "<b>Here:</b>\n",
        "\n",
        "- Child inherits from both Father and Mother\n",
        "\n",
        "- Since both parents have a method skills(), python follows the <b>Method Resolution Order (MRO)</b> and picks the first parent (Father) when using super()"
      ],
      "metadata": {
        "id": "2xXXfxYMwzF4"
      }
    },
    {
      "cell_type": "markdown",
      "source": [
        "<h3>Key Points</h3>\n",
        "\n",
        "- Multiple inheritance allows code reuse from multiple classes.\n",
        "\n",
        "- If multiple parents have the same method name, Python uses MRO to resolve conflicts.\n",
        "\n",
        "- Can be powerful, but too many parents can make code confusing (Diamond Problem).\n",
        "\n",
        "<b>In short:</b>\n",
        "\n",
        "Multiple inheritance in Python means a class can inherit from two or more classes, gaining all their attributes and methods. Python resolves conflicts using MRO.\n"
      ],
      "metadata": {
        "id": "MjYaRzUUxeZJ"
      }
    },
    {
      "cell_type": "markdown",
      "source": [
        "<h2><b>Ques_19) Explain the purpose of ‘’__str__’ and ‘__repr__’ ‘ methods in Python?</h2></b>\n",
        "\n",
        "-> <h3><b><mark>\\_\\_str__</mark>  vs  <mark>\\_\\_repr__</mark> in python</h3></b>\n",
        "\n",
        "Both are <b>special methods</b> in python that defines how an object is represented as a string.\n",
        "\n",
        "<B>1. \\_\\_str__ -> User Friendly String</B>\n",
        "- Purpose: To return a readable, user-friendly string representation of the object.\n",
        "\n",
        "- it’s what gets shown when you use print(obj) or str(obj).\n",
        "\n",
        "- Think of it like the \"nicely formatted\" description of your object.\n",
        "\n",
        "Example:"
      ],
      "metadata": {
        "id": "zuf8HZtFzksU"
      }
    },
    {
      "cell_type": "code",
      "source": [
        "class Book:\n",
        "    def __init__(self, title, author):\n",
        "        self.title = title\n",
        "        self.author = author\n",
        "\n",
        "    def __str__(self):\n",
        "        return f\"'{self.title}' by {self.author}\"  # Human-readable\n",
        "\n",
        "b = Book(\"1984\", \"George Orwell\")\n",
        "print(b)        # '1984' by George Orwell\n",
        "\n"
      ],
      "metadata": {
        "colab": {
          "base_uri": "https://localhost:8080/"
        },
        "id": "lnD295zC5jeR",
        "outputId": "56bf1f44-bc52-4afa-b764-03d15bfd4eaf"
      },
      "execution_count": 72,
      "outputs": [
        {
          "output_type": "stream",
          "name": "stdout",
          "text": [
            "'1984' by George Orwell\n"
          ]
        }
      ]
    },
    {
      "cell_type": "markdown",
      "source": [
        "<b> \\_\\_repr__ (For Developers)</b>\n",
        "\n",
        "- Purpose: To return an unambiguous string representation of the object.\n",
        "\n",
        "- It’s meant for debugging and logging.\n",
        "\n",
        "- Ideally, it should be a string that could be used to recreate the object (if possible).\n",
        "\n",
        "- It’s what you see if you just type the object in the Python shell, or call repr(obj).\n",
        "\n",
        "Example:"
      ],
      "metadata": {
        "id": "f1jaDmKC5tXo"
      }
    },
    {
      "cell_type": "code",
      "source": [
        "class Book:\n",
        "    def __init__(self, title, author):\n",
        "        self.title = title\n",
        "        self.author = author\n",
        "\n",
        "    def __repr__(self):\n",
        "        return f\"Book(title='{self.title}', author='{self.author}')\"\n",
        "\n",
        "b = Book(\"1984\", \"George Orwell\")\n",
        "print(repr(b))   # Book(title='1984', author='George Orwell')\n",
        "\n",
        "\n"
      ],
      "metadata": {
        "colab": {
          "base_uri": "https://localhost:8080/"
        },
        "id": "B9Ab0PJI6cER",
        "outputId": "8607c55b-30f1-4fbb-a0d9-a19327f4b7cc"
      },
      "execution_count": 73,
      "outputs": [
        {
          "output_type": "stream",
          "name": "stdout",
          "text": [
            "Book(title='1984', author='George Orwell')\n"
          ]
        }
      ]
    },
    {
      "cell_type": "markdown",
      "source": [
        "<h3>Difference in action</h3>\n",
        "\n"
      ],
      "metadata": {
        "id": "iBTUjTTH7AFh"
      }
    },
    {
      "cell_type": "code",
      "source": [
        "class Book:\n",
        "    def __init__(self, title, author):\n",
        "        self.title = title\n",
        "        self.author = author\n",
        "\n",
        "    def __str__(self):\n",
        "        return f\"'{self.title}' by {self.author}\"   # For user\n",
        "\n",
        "    def __repr__(self):\n",
        "        return f\"Book(title='{self.title}', author='{self.author}')\"  # For dev\n",
        "\n",
        "b = Book(\"1984\", \"George Orwell\")\n",
        "print(b)        # '1984' by George Orwell   (__str__)\n",
        "print(str(b))   # '1984' by George Orwell\n",
        "print(repr(b))  # Book(title='1984', author='George Orwell')   (__repr__)\n",
        "\n"
      ],
      "metadata": {
        "colab": {
          "base_uri": "https://localhost:8080/"
        },
        "id": "MY2rUoS97GxX",
        "outputId": "e4a8fa93-9481-4c29-f36d-a8d0174445e2"
      },
      "execution_count": 74,
      "outputs": [
        {
          "output_type": "stream",
          "name": "stdout",
          "text": [
            "'1984' by George Orwell\n",
            "'1984' by George Orwell\n",
            "Book(title='1984', author='George Orwell')\n"
          ]
        }
      ]
    },
    {
      "cell_type": "markdown",
      "source": [
        "<h2><b>Ques_20)  What is the significance of the ‘super()’ function in Python?</h2></b>\n",
        "\n",
        "-> The <b>super()</b> Function is used to <b>call methods from a parent (superclass) in a child(subclass)</b>.\n",
        "\n",
        "- It helps us reuse parent class functionality without explicitly naming the parent class.\n",
        "\n",
        "<h3><b>Why do we use <mark>super()</mark>? </b>\n",
        "\n",
        "- Avoids code duplication → You can extend the parent’s behavior instead of rewriting it.\n",
        "\n",
        "- Supports multiple inheritance → Uses MRO (Method Resolution Order) to decide which class’s method to call.\n",
        "\n",
        "- Helps maintainable code → If the parent class name changes, super() still works, while direct calls like ParentClass.method(self) would break.\n",
        "\n",
        "Example1:"
      ],
      "metadata": {
        "id": "FUDDx1-378WU"
      }
    },
    {
      "cell_type": "code",
      "source": [
        "class Animal:\n",
        "    def __init__(self, name):\n",
        "        self.name = name\n",
        "\n",
        "    def speak(self):\n",
        "        return f\"{self.name} makes a sound.\"\n",
        "\n",
        "class Dog(Animal):\n",
        "    def __init__(self, name, breed):\n",
        "        # Call parent class constructor\n",
        "        super().__init__(name)\n",
        "        self.breed = breed\n",
        "\n",
        "    def speak(self):\n",
        "        # Extend parent class method\n",
        "        return super().speak() + \" Woof!\"\n",
        "\n",
        "dog = Dog(\"Buddy\", \"Golden Retriever\")\n",
        "print(dog.speak())\n"
      ],
      "metadata": {
        "colab": {
          "base_uri": "https://localhost:8080/"
        },
        "id": "VX0mEbsu-Tqk",
        "outputId": "7b1a9a51-8a27-4767-b936-484f388451fa"
      },
      "execution_count": 75,
      "outputs": [
        {
          "output_type": "stream",
          "name": "stdout",
          "text": [
            "Buddy makes a sound. Woof!\n"
          ]
        }
      ]
    },
    {
      "cell_type": "markdown",
      "source": [
        "<b>Here</b>\n",
        "\n",
        "- super().__init__(name) → calls the parent’s constructor.\n",
        "\n",
        "- super().speak() → uses the parent’s version of speak before adding more.\n",
        "\n",
        "Example2:"
      ],
      "metadata": {
        "id": "Pw_NfXJF_EUD"
      }
    },
    {
      "cell_type": "code",
      "source": [
        "#Multiple Inheritance (MRO in action)\n",
        "class A:\n",
        "    def greet(self):\n",
        "        print(\"Hello from A\")\n",
        "\n",
        "class B(A):\n",
        "    def greet(self):\n",
        "        super().greet()\n",
        "        print(\"Hello from B\")\n",
        "\n",
        "class C(A):\n",
        "    def greet(self):\n",
        "        super().greet()\n",
        "        print(\"Hello from C\")\n",
        "\n",
        "class D(B, C):   # Multiple inheritance\n",
        "    def greet(self):\n",
        "        super().greet()\n",
        "        print(\"Hello from D\")\n",
        "\n",
        "d = D()\n",
        "d.greet()\n"
      ],
      "metadata": {
        "colab": {
          "base_uri": "https://localhost:8080/"
        },
        "id": "kgvYEqYV_AZH",
        "outputId": "96a76913-7bd1-4dc6-b084-7abc288c1bed"
      },
      "execution_count": 76,
      "outputs": [
        {
          "output_type": "stream",
          "name": "stdout",
          "text": [
            "Hello from A\n",
            "Hello from C\n",
            "Hello from B\n",
            "Hello from D\n"
          ]
        }
      ]
    },
    {
      "cell_type": "markdown",
      "source": [
        "Notice how super() follows MRO order (D → B → C → A) instead of just the immediate parent.\n",
        "\n",
        "<b>Key Takeaways</b>\n",
        "\n",
        "- super() is used to call methods from parent/superclasses.\n",
        "\n",
        "- Prevents code duplication and makes code more flexible.\n",
        "\n",
        "- Works with multiple inheritance by following MRO.\n",
        "\n",
        "- Without super(), you’d have to explicitly call parent class methods, which is less maintainable."
      ],
      "metadata": {
        "id": "JuHChGJs_dfh"
      }
    },
    {
      "cell_type": "markdown",
      "source": [
        "<h2><b>Ques_21) What is the significance of the __del__ method in Python?</b></h2>\n",
        "\n",
        "-> <h3><b>\\_\\_del__</h3></b>\n",
        "\n",
        "is a <b>destructor method</b> in python.\n",
        "\n",
        "- It is called <B>When an object is about to be destroyed</b> (i.e, it's memory is about to be reached by the garbage collector).\n",
        "\n",
        "- Syntax:\n",
        "\n",
        "def \\_\\_del__(self):\n",
        "    # cleanup code here\n",
        "\n",
        "<h3><b>Purpose / Significance of\n",
        "\n",
        "\\_\\_del__</h3></b>\n",
        "\n",
        "1. <b>Resource Cleanup :</b> Used to free up resources (like closing files, releasing network connections, database connections, etc.) when the object is no longer needed.\n",
        "\n",
        "2. <b>Final Goodbye :</b> Acts like a \"last chance\" to do something before the object disappears from memory.\n",
        "\n",
        "\n",
        "Example:\n",
        "\n"
      ],
      "metadata": {
        "id": "GyiE6c5L_w8y"
      }
    },
    {
      "cell_type": "code",
      "source": [
        "class FileHandler:\n",
        "    def __init__(self, filename):\n",
        "        self.file = open(filename, 'w')\n",
        "        print(f\"Opened {filename}\")\n",
        "\n",
        "    def write_data(self, data):\n",
        "        self.file.write(data)\n",
        "\n",
        "    def __del__(self):\n",
        "        self.file.close()\n",
        "        print(\"File closed and object destroyed\")\n",
        "\n",
        "\n",
        "handler = FileHandler(\"test.txt\")\n",
        "handler.write_data(\"Hello, Python!\")\n",
        "\n",
        "\n"
      ],
      "metadata": {
        "colab": {
          "base_uri": "https://localhost:8080/"
        },
        "id": "bhYPeMeaDmIi",
        "outputId": "0ebe447a-874c-4df3-d511-39ba35afe9a4"
      },
      "execution_count": 77,
      "outputs": [
        {
          "output_type": "stream",
          "name": "stdout",
          "text": [
            "Opened test.txt\n"
          ]
        }
      ]
    },
    {
      "cell_type": "markdown",
      "source": [
        "Here, \\_\\_del__ ensures the file is closed automatically when the object is garbage collected.\n",
        "\n",
        "<h3><b>Important Notes</h3></b>:\n",
        "\n",
        "- Python uses <b>automatic garbage collection</b>. So you don't always control when \\_\\_del__ is called.\n",
        "\n",
        "- If there are <b>circular references</b>, \\_\\_del__ may not be called immediately.\n",
        "\n",
        "- A safer alternative for managing resorces is to use <b>context managers(with statement) </b>instead of relying only on \\_\\_del__.\n"
      ],
      "metadata": {
        "id": "lEX32e5EE5jr"
      }
    },
    {
      "cell_type": "markdown",
      "source": [
        "<h2><b>Ques_22) What is the difference between @staticmethod and @classmethod in Python?</h2></b>\n",
        "\n",
        "-> <h3><b>1. <mark> @staticmethod</mark></b></h3>\n",
        "\n",
        "- Belongs to the <b>class</b>, but it <b>doesn't need</b> self or cls.\n",
        "\n",
        "- It behaves just like a normal function.\n",
        "\n",
        "- It can’t access instance attributes (self) or class attributes (cls).\n",
        "\n",
        "- Useful for utility/helper methods that logically belong to the class but don’t depend on object or class state.\n",
        "\n",
        "Example:"
      ],
      "metadata": {
        "id": "8BOxEl4pX3Ex"
      }
    },
    {
      "cell_type": "code",
      "source": [
        "class MathUtils:\n",
        "    @staticmethod\n",
        "    def add(a, b):\n",
        "        return a + b\n",
        "\n",
        "    @staticmethod\n",
        "    def multiply(a, b):\n",
        "        return a * b\n",
        "\n",
        "print(MathUtils.add(5, 3))   # 8\n",
        "print(MathUtils.multiply(4, 6))   # 24"
      ],
      "metadata": {
        "colab": {
          "base_uri": "https://localhost:8080/"
        },
        "id": "DZR9BJkB_z1w",
        "outputId": "3d80e1cc-8974-42e9-96c6-e3df7da37b5f"
      },
      "execution_count": 78,
      "outputs": [
        {
          "output_type": "stream",
          "name": "stdout",
          "text": [
            "8\n",
            "24\n"
          ]
        }
      ]
    },
    {
      "cell_type": "markdown",
      "source": [
        "works like a normal function but grouped inside the class for <b>organization</b>.\n",
        "\n",
        "2. <h3><b><mark>@classmethod</h3></b></mark>\n",
        "\n",
        "- Belongs to the class and it takes <b>cls</b> as its first parameter.\n",
        "\n",
        "- Can <b>access/modify class-level attributes</b>(shared across all objects).\n",
        "\n",
        "- Often used as <b>factory methods</b> -> alternate ways to create objects.\n",
        "\n",
        "Example:\n",
        "\n",
        "\n"
      ],
      "metadata": {
        "id": "0zuXLJ30Zf5W"
      }
    },
    {
      "cell_type": "code",
      "source": [
        "class Person:\n",
        "    species = \"Human\"\n",
        "\n",
        "    def __init__(self, name, age=None):\n",
        "        self.name = name\n",
        "        self.age = age   # default None if not given\n",
        "\n",
        "    @classmethod\n",
        "    def from_birth_year(cls, name, year):\n",
        "        age = 2025 - year\n",
        "        return cls(name, age)   # create object with name + age\n",
        "\n",
        "\n",
        "# Alternate way (using classmethod)\n",
        "person2 = Person.from_birth_year(\"Nishita\", 2005)\n",
        "print(person2.name, person2.age, Person.species)\n"
      ],
      "metadata": {
        "colab": {
          "base_uri": "https://localhost:8080/"
        },
        "id": "DBkxYCvWa8Dc",
        "outputId": "224629aa-9b75-4d2b-a153-9f2207d8d2ff"
      },
      "execution_count": 79,
      "outputs": [
        {
          "output_type": "stream",
          "name": "stdout",
          "text": [
            "Nishita 20 Human\n"
          ]
        }
      ]
    },
    {
      "cell_type": "markdown",
      "source": [
        "In Short:\n",
        "\n",
        "- Use @staticmethod for general purpose functions.\n",
        "\n",
        "- Use @classmethod when you need to work with the class itself(like alternate constructor)."
      ],
      "metadata": {
        "id": "azzDq70ZhSTN"
      }
    },
    {
      "cell_type": "markdown",
      "source": [
        "<h2><b>Ques_23)  How does polymorphism work in Python with inheritance?</h2></b>\n",
        "<h3><b>Inheritance</h3></b>\n",
        "\n",
        "- One class <b>reuses the methods/attributes </b> of another class (parent/superclass).\n",
        "- Example:"
      ],
      "metadata": {
        "id": "a5VGhr-nhteD"
      }
    },
    {
      "cell_type": "code",
      "source": [
        "class Animal:\n",
        "  def speak(self):\n",
        "    return \"Makes sound\"\n",
        "\n",
        "class Dog(Animal):   # Dog inherits from animal\n",
        "  def speak(self):\n",
        "    return \"Woof\"\n",
        "\n",
        "obj = Dog()\n",
        "print(obj.speak())\n",
        ""
      ],
      "metadata": {
        "colab": {
          "base_uri": "https://localhost:8080/"
        },
        "id": "dGo3RthCrU4u",
        "outputId": "a951b877-6492-49fa-b406-184068f4ebf1"
      },
      "execution_count": 80,
      "outputs": [
        {
          "output_type": "stream",
          "name": "stdout",
          "text": [
            "Woof\n"
          ]
        }
      ]
    },
    {
      "cell_type": "markdown",
      "source": [
        "Here, <mark>Dog</mark> <b>inherits</b> from <mark>Animal</mark>, but also <b>overrides</b> speak()."
      ],
      "metadata": {
        "id": "y7nBsvtiraMy"
      }
    },
    {
      "cell_type": "markdown",
      "source": [
        "<b><h3>Polymorphism</h3></b>\n",
        "\n",
        "- Polymorphism = \"many forms\"\n",
        "\n",
        "- The <b>same function name</b>(like speak) can <b>behave differently</b> depending upon the object(Dog, Cat, Cow).\n",
        "\n",
        "Example:"
      ],
      "metadata": {
        "id": "YVKtSqzbreo0"
      }
    },
    {
      "cell_type": "code",
      "source": [
        "class Animal:\n",
        "  def speak(self):\n",
        "    return \"Makes sound\"\n",
        "\n",
        "class Dog(Animal):   # Dog inherits from animal\n",
        "  def speak(self):\n",
        "    return \"Woof\"\n",
        "\n",
        "class Cat(Animal):   # Cat inherits from animal\n",
        "  def speak(self):\n",
        "    return \"Meow\"\n",
        "\n",
        "class Cow(Animal):   # Cow inherits from animal\n",
        "  def speak(self):\n",
        "    return \"Moo\"\n",
        "\n",
        "# Polymorphism in action\n",
        "animals = [Dog(), Cat(), Cow()]\n",
        "for a in animals:\n",
        "  print(a.speak())\n",
        "\n",
        "\n",
        "\n"
      ],
      "metadata": {
        "colab": {
          "base_uri": "https://localhost:8080/"
        },
        "id": "dk59kPVZng-g",
        "outputId": "8605499b-f987-47d1-802f-95b3a9955c37"
      },
      "execution_count": 81,
      "outputs": [
        {
          "output_type": "stream",
          "name": "stdout",
          "text": [
            "Woof\n",
            "Meow\n",
            "Moo\n"
          ]
        }
      ]
    },
    {
      "cell_type": "markdown",
      "source": [
        "This is <b>Polymorphism with Inheritance</b>:\n",
        "\n",
        "- All classes share common interface (speak method from animal).\n",
        "\n",
        "- But each subclass provides its <b>own implementation</b>."
      ],
      "metadata": {
        "id": "FpAbx1ZYr2dO"
      }
    },
    {
      "cell_type": "markdown",
      "source": [
        "<h2><b>Ques_24) What is method chaining in Python OOP?</h2></b>\n",
        "\n",
        "-> <b>Method chaining </b> is when you call <b>multiple methods on the same object in a single line,</b> because each method <b>returns the object itself</b> (self).\n",
        "\n",
        "Example:"
      ],
      "metadata": {
        "id": "XH_gR4lJuXaO"
      }
    },
    {
      "cell_type": "code",
      "source": [
        "class Person:\n",
        "  def __init__(self, name):\n",
        "    self.name = name\n",
        "    self.hobbies = []\n",
        "\n",
        "  def add_hobbies(self, hobby):\n",
        "    self.hobbies.append(hobby)\n",
        "    return self\n",
        "\n",
        "  def show_hobbies(self):\n",
        "    print(f\"{self.name}'s hobbies: {\",\".join(self.hobbies)}\")\n",
        "\n",
        "person = Person(\"Nishita\")\n",
        "person.add_hobbies(\"Coding\").add_hobbies(\"Reading\").show_hobbies()"
      ],
      "metadata": {
        "colab": {
          "base_uri": "https://localhost:8080/"
        },
        "id": "0ir7akURwm_1",
        "outputId": "296e5149-4b32-47c3-927e-d9145187c663"
      },
      "execution_count": 82,
      "outputs": [
        {
          "output_type": "stream",
          "name": "stdout",
          "text": [
            "Nishita's hobbies: Coding,Reading\n"
          ]
        }
      ]
    },
    {
      "cell_type": "markdown",
      "source": [
        "<h3>How it works:</h3>\n",
        "\n",
        "-  add_hobby() adds a hobby and returns self (the object).\n",
        "\n",
        "- Because the method returns the same object, you can immediately call another method on it.\n",
        "\n",
        "- This makes code shorter and cleaner.\n"
      ],
      "metadata": {
        "id": "C4u0hklgxtgd"
      }
    },
    {
      "cell_type": "markdown",
      "source": [
        "<h2><b>Ques_25) What is the purpose of the __call__ method in Python?</h2></b>\n",
        "\n",
        "-> <h3><b>\\_\\_call__ Method in Python</h3></b>\n",
        "\n",
        "The \\_\\_call__ Method makes an object<b> collable like a function.</b>\n",
        "\n",
        "- If a class defines \\_\\_call__, then an <b>instance of that class can be called just like a normal function.</b>\n",
        "\n",
        "Example:"
      ],
      "metadata": {
        "id": "t2rKyQ9TybhT"
      }
    },
    {
      "cell_type": "code",
      "source": [
        "class Greeter:\n",
        "    def __init__(self, name):\n",
        "        self.name = name\n",
        "\n",
        "    def __call__(self, greeting):\n",
        "        return f\"{greeting}, {self.name}!\"\n",
        "\n",
        "# Create object\n",
        "g = Greeter(\"PwSkills\")\n",
        "\n",
        "# Call object like a function\n",
        "print(g(\"Hello\"))    # Equivalent to g.__call__(\"Hello\")\n",
        "print(g(\"Thanks\"))\n"
      ],
      "metadata": {
        "colab": {
          "base_uri": "https://localhost:8080/"
        },
        "id": "bJdoNwWc0JG0",
        "outputId": "9a50e5fb-d543-4fbd-f9c0-eb3ea2b1ad0a"
      },
      "execution_count": 83,
      "outputs": [
        {
          "output_type": "stream",
          "name": "stdout",
          "text": [
            "Hello, PwSkills!\n",
            "Thanks, PwSkills!\n"
          ]
        }
      ]
    },
    {
      "cell_type": "markdown",
      "source": [
        "Fun Example:"
      ],
      "metadata": {
        "id": "VfTnCrzg1X50"
      }
    },
    {
      "cell_type": "code",
      "source": [
        "class Counter:\n",
        "  def __init__(self):\n",
        "    self.count = 0\n",
        "\n",
        "  def __call__(self):\n",
        "    self.count += 1\n",
        "    print(f\"Called {self.count} times\")\n",
        "\n",
        "c = Counter()\n",
        "c()\n",
        "c()\n",
        "c()"
      ],
      "metadata": {
        "colab": {
          "base_uri": "https://localhost:8080/"
        },
        "id": "T7v0_Vkr1bNx",
        "outputId": "46014dc2-d2c8-490a-d8ff-b8ea250d8b9a"
      },
      "execution_count": 84,
      "outputs": [
        {
          "output_type": "stream",
          "name": "stdout",
          "text": [
            "Called 1 times\n",
            "Called 2 times\n",
            "Called 3 times\n"
          ]
        }
      ]
    },
    {
      "cell_type": "markdown",
      "source": [
        "<B>In short:</B>\n",
        "\n",
        "- \\_\\_call__ lets you treat objects like functions.\n",
        "\n",
        "- Very useful in design patterns, decorators, and ML models."
      ],
      "metadata": {
        "id": "h7Orj1te19Ks"
      }
    },
    {
      "cell_type": "markdown",
      "source": [
        "# Practical Questions:"
      ],
      "metadata": {
        "id": "kGNkTcGL2V85"
      }
    },
    {
      "cell_type": "markdown",
      "source": [
        "<h2><b>1.  Create a parent class Animal with a method speak() that prints a generic message. Create a child class Dog\n",
        "that overrides the speak() method to print \"Bark!\""
      ],
      "metadata": {
        "id": "1f8ZuLQK2bFE"
      }
    },
    {
      "cell_type": "code",
      "source": [
        "class Animal:\n",
        "  def speak(self):\n",
        "    print(\"Generic animal sound\")\n",
        "class Dog(Animal):\n",
        "  def speak(self):\n",
        "    print(\"Bark!\")\n",
        "\n",
        "dog = Dog()\n",
        "dog.speak()"
      ],
      "metadata": {
        "colab": {
          "base_uri": "https://localhost:8080/"
        },
        "id": "ZOtsIdV32pz4",
        "outputId": "75c94902-b9a6-467d-f69b-d876800456bf"
      },
      "execution_count": 85,
      "outputs": [
        {
          "output_type": "stream",
          "name": "stdout",
          "text": [
            "Bark!\n"
          ]
        }
      ]
    },
    {
      "cell_type": "markdown",
      "source": [
        "<h2><b>2.  Write a program to create an abstract class Shape with a method area(). Derive classes Circle and Rectangle\n",
        "from it and implement the area() method in both."
      ],
      "metadata": {
        "id": "kyKcfavZ3Jo3"
      }
    },
    {
      "cell_type": "code",
      "source": [
        "from abc import ABC, abstractmethod\n",
        "import math\n",
        "\n",
        "# Abstract class\n",
        "class Shape(ABC):\n",
        "    @abstractmethod\n",
        "    def area(self):\n",
        "        pass\n",
        "\n",
        "\n",
        "# Derived class: Circle\n",
        "class Circle(Shape):\n",
        "    def __init__(self, radius):\n",
        "        self.radius = radius\n",
        "\n",
        "    def area(self):\n",
        "        return math.pi * self.radius * self.radius\n",
        "\n",
        "\n",
        "# Derived class: Rectangle\n",
        "class Rectangle(Shape):\n",
        "    def __init__(self, length, width):\n",
        "        self.length = length\n",
        "        self.width = width\n",
        "\n",
        "    def area(self):\n",
        "        return self.length * self.width\n",
        "\n",
        "\n",
        "# --- Testing ---\n",
        "shapes = [\n",
        "    Circle(5),        # Circle with radius 5\n",
        "    Rectangle(4, 6)   # Rectangle with length 4, width 6\n",
        "]\n",
        "\n",
        "for shape in shapes:\n",
        "    print(f\"Area of {shape.__class__.__name__}: {shape.area()}\")\n"
      ],
      "metadata": {
        "colab": {
          "base_uri": "https://localhost:8080/"
        },
        "id": "XXhkplx53RSC",
        "outputId": "1dd97cfa-6aa5-4245-ace8-f7f1c502f9a9"
      },
      "execution_count": 86,
      "outputs": [
        {
          "output_type": "stream",
          "name": "stdout",
          "text": [
            "Area of Circle: 78.53981633974483\n",
            "Area of Rectangle: 24\n"
          ]
        }
      ]
    },
    {
      "cell_type": "markdown",
      "source": [
        "<h2><b>3.  Implement a multi-level inheritance scenario where a class Vehicle has an attribute type. Derive a class Car\n",
        "and further derive a class ElectricCar that adds a battery attribute.</h2></b>"
      ],
      "metadata": {
        "id": "fvp4rqUl7fqT"
      }
    },
    {
      "cell_type": "code",
      "source": [
        "# Base class\n",
        "class Vehicle:\n",
        "    def __init__(self, vehicle_type):\n",
        "        self.vehicle_type = vehicle_type\n",
        "\n",
        "    def show_type(self):\n",
        "        print(f\"Vehicle type: {self.vehicle_type}\")\n",
        "\n",
        "\n",
        "# Derived class (inherits from Vehicle)\n",
        "class Car(Vehicle):\n",
        "    def __init__(self, vehicle_type, brand):\n",
        "        super().__init__(vehicle_type)   # call parent constructor\n",
        "        self.brand = brand\n",
        "\n",
        "    def show_brand(self):\n",
        "        print(f\"Car brand: {self.brand}\")\n",
        "\n",
        "\n",
        "# Further derived class (inherits from Car)\n",
        "class ElectricCar(Car):\n",
        "    def __init__(self, vehicle_type, brand, battery_capacity):\n",
        "        super().__init__(vehicle_type, brand)   # call Car constructor\n",
        "        self.battery_capacity = battery_capacity\n",
        "\n",
        "    def show_battery(self):\n",
        "        print(f\"Battery capacity: {self.battery_capacity} kWh\")\n",
        "\n",
        "\n",
        "# --- Testing ---\n",
        "e_car = ElectricCar(\"Four-wheeler\", \"Tesla\", 100)\n",
        "\n",
        "e_car.show_type()      # From Vehicle\n",
        "e_car.show_brand()     # From Car\n",
        "e_car.show_battery()   # From ElectricCar\n"
      ],
      "metadata": {
        "colab": {
          "base_uri": "https://localhost:8080/"
        },
        "id": "ZAjtUFwl7Si6",
        "outputId": "f1ccc480-28e2-43e9-8437-28323c11ecee"
      },
      "execution_count": 87,
      "outputs": [
        {
          "output_type": "stream",
          "name": "stdout",
          "text": [
            "Vehicle type: Four-wheeler\n",
            "Car brand: Tesla\n",
            "Battery capacity: 100 kWh\n"
          ]
        }
      ]
    },
    {
      "cell_type": "markdown",
      "source": [
        "<h2><b>4.  Demonstrate polymorphism by creating a base class Bird with a method fly(). Create two derived classes\n",
        "Sparrow and Penguin that override the fly() method.\n",
        "\n"
      ],
      "metadata": {
        "id": "9nTAuaiB94Hn"
      }
    },
    {
      "cell_type": "code",
      "source": [
        "class Bird:\n",
        "  def fly(self):\n",
        "    print(\"Some birds can fly, some can't.\")\n",
        "\n",
        "class Sparrow(Bird):\n",
        "  def fly(self):\n",
        "    print(\"Sparrows can fly.\")\n",
        "\n",
        "class Penguin(Bird):\n",
        "  def fly(self):\n",
        "    print(\"Penguins can't fly.\")\n",
        "\n",
        "# Polymorphism in action\n",
        "birds = [Sparrow(), Penguin()]\n",
        "for b in birds:\n",
        "  b.fly()"
      ],
      "metadata": {
        "colab": {
          "base_uri": "https://localhost:8080/"
        },
        "id": "Z4ou0ELA-Je5",
        "outputId": "de7009a8-a668-4de2-b93d-7b83f614b987"
      },
      "execution_count": 88,
      "outputs": [
        {
          "output_type": "stream",
          "name": "stdout",
          "text": [
            "Sparrows can fly.\n",
            "Penguins can't fly.\n"
          ]
        }
      ]
    },
    {
      "cell_type": "markdown",
      "source": [
        "<h2><b>5.  Write a program to demonstrate encapsulation by creating a class BankAccount with private attributes\n",
        "balance and methods to deposit, withdraw, and check balance"
      ],
      "metadata": {
        "id": "74T6A4sG_Oh9"
      }
    },
    {
      "cell_type": "code",
      "source": [
        "class BankAccount:\n",
        "    def __init__(self, initial_balance=0):\n",
        "        self.__balance = initial_balance   # private attribute\n",
        "\n",
        "    # Method to deposit money\n",
        "    def deposit(self, amount):\n",
        "        if amount > 0:\n",
        "            self.__balance += amount\n",
        "            print(f\"Deposited: {amount}\")\n",
        "        else:\n",
        "            print(\"Deposit amount must be positive.\")\n",
        "\n",
        "    # Method to withdraw money\n",
        "    def withdraw(self, amount):\n",
        "        if 0 < amount <= self.__balance:\n",
        "            self.__balance -= amount\n",
        "            print(f\"Withdrew: {amount}\")\n",
        "        else:\n",
        "            print(\"Insufficient funds or invalid amount.\")\n",
        "\n",
        "    # Method to check balance\n",
        "    def get_balance(self):\n",
        "        return self.__balance\n",
        "\n",
        "\n",
        "# --- Testing ---\n",
        "account = BankAccount(1000)   # initial balance = 1000\n",
        "account.deposit(500)          # deposit money\n",
        "account.withdraw(200)         # withdraw money\n",
        "print(\"Current Balance:\", account.get_balance())\n",
        "\n",
        "# Trying to access private attribute directly (will fail)\n",
        "# print(account.__balance)   #  AttributeError\n"
      ],
      "metadata": {
        "colab": {
          "base_uri": "https://localhost:8080/"
        },
        "id": "37qwLILr_hpC",
        "outputId": "7d72675d-c832-42dc-9975-e43b31af1fd3"
      },
      "execution_count": 89,
      "outputs": [
        {
          "output_type": "stream",
          "name": "stdout",
          "text": [
            "Deposited: 500\n",
            "Withdrew: 200\n",
            "Current Balance: 1300\n"
          ]
        }
      ]
    },
    {
      "cell_type": "markdown",
      "source": [
        "<h2><b>6. Demonstrate runtime polymorphism using a method play() in a base class Instrument. Derive classes Guitar\n",
        "and Piano that implement their own version of play().\n",
        "\n",
        "\n"
      ],
      "metadata": {
        "id": "_QCnLvR5AnSK"
      }
    },
    {
      "cell_type": "code",
      "source": [
        "# Base class\n",
        "class Instrument:\n",
        "    def play(self):\n",
        "        print(\"This instrument makes a sound.\")\n",
        "\n",
        "# Derived class: Guitar\n",
        "class Guitar(Instrument):\n",
        "    def play(self):\n",
        "        print(\"Strumming the guitar \")\n",
        "\n",
        "# Derived class: Piano\n",
        "class Piano(Instrument):\n",
        "    def play(self):\n",
        "        print(\"Playing the piano \")\n",
        "\n",
        "\n",
        "# --- Testing runtime polymorphism ---\n",
        "instruments = [Guitar(), Piano(), Instrument()]\n",
        "\n",
        "for instrument in instruments:\n",
        "    instrument.play()   # Same method name, but different behavior\n"
      ],
      "metadata": {
        "colab": {
          "base_uri": "https://localhost:8080/"
        },
        "id": "W1z2mLXOA3ST",
        "outputId": "1f4be48e-19c1-471d-dea5-355f64e1abec"
      },
      "execution_count": 90,
      "outputs": [
        {
          "output_type": "stream",
          "name": "stdout",
          "text": [
            "Strumming the guitar \n",
            "Playing the piano \n",
            "This instrument makes a sound.\n"
          ]
        }
      ]
    },
    {
      "cell_type": "markdown",
      "source": [
        "<h2><b>7.  Create a class MathOperations with a class method add_numbers() to add two numbers and a static\n",
        "method subtract_numbers() to subtract two numbers."
      ],
      "metadata": {
        "id": "UHwKnMCIA84v"
      }
    },
    {
      "cell_type": "code",
      "source": [
        "class MathOperations:\n",
        "\n",
        "    # Class Method\n",
        "    @classmethod\n",
        "    def add_numbers(cls, a, b):\n",
        "        return a + b\n",
        "\n",
        "    # Static Method\n",
        "    @staticmethod\n",
        "    def subtract_numbers(a, b):\n",
        "        return a - b\n",
        "\n",
        "\n",
        "# --- Testing ---\n",
        "print(\"Addition:\", MathOperations.add_numbers(10, 5))     # Class method\n",
        "print(\"Subtraction:\", MathOperations.subtract_numbers(10, 5))  # Static method\n"
      ],
      "metadata": {
        "colab": {
          "base_uri": "https://localhost:8080/"
        },
        "id": "J-20KBK4BdGl",
        "outputId": "18794f29-b1e7-4ab7-bc30-35fe33dcbc50"
      },
      "execution_count": 91,
      "outputs": [
        {
          "output_type": "stream",
          "name": "stdout",
          "text": [
            "Addition: 15\n",
            "Subtraction: 5\n"
          ]
        }
      ]
    },
    {
      "cell_type": "markdown",
      "source": [
        "<h2><b>8.  Implement a class Person with a class method to count the total number of persons created."
      ],
      "metadata": {
        "id": "9F_8fnGPCEKO"
      }
    },
    {
      "cell_type": "code",
      "source": [
        "class Person:\n",
        "    count = 0   # class variable to track number of persons\n",
        "\n",
        "    def __init__(self, name):\n",
        "        self.name = name\n",
        "        Person.count += 1   # increase count when a new object is created\n",
        "\n",
        "    @classmethod\n",
        "    def total_persons(cls):\n",
        "        return cls.count\n",
        "\n",
        "\n",
        "# --- Testing ---\n",
        "p1 = Person(\"Alice\")\n",
        "p2 = Person(\"Bob\")\n",
        "p3 = Person(\"Charlie\")\n",
        "\n",
        "print(\"Total persons created:\", Person.total_persons())\n"
      ],
      "metadata": {
        "colab": {
          "base_uri": "https://localhost:8080/"
        },
        "id": "gU9Do8UcCL-Z",
        "outputId": "fa594429-f700-42aa-fa08-424bffe8bac5"
      },
      "execution_count": 92,
      "outputs": [
        {
          "output_type": "stream",
          "name": "stdout",
          "text": [
            "Total persons created: 3\n"
          ]
        }
      ]
    },
    {
      "cell_type": "markdown",
      "source": [
        "<h2><b>9.  Write a class Fraction with attributes numerator and denominator. Override the str method to display the\n",
        "fraction as \"numerator/denominator\"."
      ],
      "metadata": {
        "id": "mKcskMFZDSFU"
      }
    },
    {
      "cell_type": "code",
      "source": [
        "class Fraction:\n",
        "  def __init__(self, numerator, denominator):\n",
        "    self.numerator = numerator\n",
        "    self.denominator = denominator\n",
        "\n",
        "  def __str__(self):\n",
        "    return f\"{self.numerator}/{self.denominator}\"\n",
        "\n",
        "# --- Testing ---\n",
        "f1 = Fraction(3, 4)\n",
        "f2 = Fraction(7, 2)\n",
        "print(f1)\n",
        "print(f2)\n",
        "\n"
      ],
      "metadata": {
        "colab": {
          "base_uri": "https://localhost:8080/"
        },
        "id": "VxLftcS1DewS",
        "outputId": "bfc81b3a-218a-423d-f071-ceb6f6d265cb"
      },
      "execution_count": 93,
      "outputs": [
        {
          "output_type": "stream",
          "name": "stdout",
          "text": [
            "3/4\n",
            "7/2\n"
          ]
        }
      ]
    },
    {
      "cell_type": "markdown",
      "source": [
        "<h2><b>10. Demonstrate operator overloading by creating a class Vector and overriding the add method to add two\n",
        "vectors.\n",
        "\n",
        "\n"
      ],
      "metadata": {
        "id": "hxKDyrguD9Ez"
      }
    },
    {
      "cell_type": "code",
      "source": [
        "class Vector:\n",
        "    def __init__(self, x, y):\n",
        "        self.x = x\n",
        "        self.y = y\n",
        "\n",
        "    # Overloading + operator\n",
        "    def __add__(self, other):\n",
        "        return Vector(self.x + other.x, self.y + other.y)\n",
        "\n",
        "    # For readable output\n",
        "    def __str__(self):\n",
        "        return f\"({self.x}, {self.y})\"\n",
        "\n",
        "\n",
        "# --- Testing ---\n",
        "v1 = Vector(2, 3)\n",
        "v2 = Vector(4, 5)\n",
        "\n",
        "v3 = v1 + v2   # calls __add__\n",
        "\n",
        "print(\"v1:\", v1)\n",
        "print(\"v2:\", v2)\n",
        "print(\"v1 + v2 =\", v3)\n"
      ],
      "metadata": {
        "colab": {
          "base_uri": "https://localhost:8080/"
        },
        "id": "gwd2tlshEV93",
        "outputId": "07524cf8-37ab-4242-fa73-aa973354e079"
      },
      "execution_count": 94,
      "outputs": [
        {
          "output_type": "stream",
          "name": "stdout",
          "text": [
            "v1: (2, 3)\n",
            "v2: (4, 5)\n",
            "v1 + v2 = (6, 8)\n"
          ]
        }
      ]
    },
    {
      "cell_type": "markdown",
      "source": [
        "<h2><b>11.  Create a class Person with attributes name and age. Add a method greet() that prints \"Hello, my name is\n",
        "{name} and I am {age} years old.\""
      ],
      "metadata": {
        "id": "Q-fU8h0jEYlk"
      }
    },
    {
      "cell_type": "code",
      "source": [
        "class Person:\n",
        "  def __init__(self, name, age):\n",
        "    self.name = name\n",
        "    self.age = age\n",
        "\n",
        "  def greet(self):\n",
        "    print (f\"Hello, my name is {self.name} and I am {self.age} years old.\")\n",
        "\n",
        "g = Person(\"Nishita\", 20)\n",
        "g.greet()\n"
      ],
      "metadata": {
        "colab": {
          "base_uri": "https://localhost:8080/"
        },
        "id": "fw3R3jpKEsDL",
        "outputId": "316d9f99-afb5-42e1-bd70-e010acd620fc"
      },
      "execution_count": 95,
      "outputs": [
        {
          "output_type": "stream",
          "name": "stdout",
          "text": [
            "Hello, my name is Nishita and I am 20 years old.\n"
          ]
        }
      ]
    },
    {
      "cell_type": "markdown",
      "source": [
        "<h2><b>12. Implement a class Student with attributes name and grades. Create a method average_grade() to compute\n",
        "the average of the grades"
      ],
      "metadata": {
        "id": "upexaV0CFlhG"
      }
    },
    {
      "cell_type": "code",
      "source": [
        "class Student:\n",
        "  def __init__(self, name, grades):\n",
        "    self.name = name\n",
        "    self.grades = grades\n",
        "\n",
        "  def average_grade(self):\n",
        "    return sum(self.grades) / len(self.grades)\n",
        "\n",
        "grades = Student(\"Nishita\", [90, 85, 92, 88])\n",
        "print(grades.average_grade())"
      ],
      "metadata": {
        "colab": {
          "base_uri": "https://localhost:8080/"
        },
        "id": "ljhULKpFFs7J",
        "outputId": "7773bdbe-c875-4a4b-815d-1c4f5237936a"
      },
      "execution_count": 96,
      "outputs": [
        {
          "output_type": "stream",
          "name": "stdout",
          "text": [
            "88.75\n"
          ]
        }
      ]
    },
    {
      "cell_type": "markdown",
      "source": [
        "<h2><b> 13.  Create a class Rectangle with methods set_dimensions() to set the dimensions and area() to calculate the\n",
        "area."
      ],
      "metadata": {
        "id": "KpIR77z3GKJe"
      }
    },
    {
      "cell_type": "code",
      "source": [
        "class Rectangle:\n",
        "  def __init__(self):\n",
        "    self.length = 0\n",
        "    self.width = 0\n",
        "\n",
        "  def set_dimensions(self, length, width):\n",
        "    self.length = length\n",
        "    self.width = width\n",
        "\n",
        "  def area(self):\n",
        "    return self.length * self.width\n",
        "\n",
        "# --- Testing ---\n",
        "rect = Rectangle()\n",
        "rect.set_dimensions(5, 3)\n",
        "print(\"Area:\", rect.area())"
      ],
      "metadata": {
        "colab": {
          "base_uri": "https://localhost:8080/"
        },
        "id": "4a0-x_XnGUaa",
        "outputId": "6273fc5d-d08f-40e8-8cb4-e357a57d45ed"
      },
      "execution_count": 97,
      "outputs": [
        {
          "output_type": "stream",
          "name": "stdout",
          "text": [
            "Area: 15\n"
          ]
        }
      ]
    },
    {
      "cell_type": "markdown",
      "source": [
        "<h2><b> 14.  Create a class Employee with a method calculate_salary() that computes the salary based on hours worked\n",
        "and hourly rate. Create a derived class Manager that adds a bonus to the salary"
      ],
      "metadata": {
        "id": "6Om-vqN8HAcs"
      }
    },
    {
      "cell_type": "code",
      "source": [
        "class Employee:\n",
        "  def __init__(self, name, hours_worked, hourly_rate):\n",
        "    self.name = name\n",
        "    self.hours_worked = hours_worked\n",
        "    self.hourly_rate = hourly_rate\n",
        "\n",
        "  def calculate_salary(self):\n",
        "    return self.hours_worked * self.hourly_rate\n",
        "\n",
        "class Manager(Employee):\n",
        "  def __init__(self, name, hours_worked, hourly_rate, bonus):\n",
        "    super().__init__(name, hours_worked, hourly_rate)\n",
        "    self.bonus = bonus\n",
        "\n",
        "  def calculate_salary(self):\n",
        "        base_salary = super().calculate_salary()  # call Employee's method\n",
        "        return base_salary + self.bonus\n",
        "\n",
        "\n",
        "# --- Testing ---\n",
        "emp = Employee(\"Alice\", 40, 20)   # 40 hrs * $20\n",
        "mgr = Manager(\"Bob\", 40, 30, 500) # 40 hrs * $30 + 500 bonus\n",
        "\n",
        "print(f\"{emp.name}'s salary: ${emp.calculate_salary()}\")\n",
        "print(f\"{mgr.name}'s salary: ${mgr.calculate_salary()}\")"
      ],
      "metadata": {
        "colab": {
          "base_uri": "https://localhost:8080/"
        },
        "id": "u8NpxuQCHLsN",
        "outputId": "3e444e37-b7c6-489e-a13f-a03685822631"
      },
      "execution_count": 98,
      "outputs": [
        {
          "output_type": "stream",
          "name": "stdout",
          "text": [
            "Alice's salary: $800\n",
            "Bob's salary: $1700\n"
          ]
        }
      ]
    },
    {
      "cell_type": "markdown",
      "source": [
        "<h2><b>15. Create a class Product with attributes name, price, and quantity. Implement a method total_price() that\n",
        "calculates the total price of the product."
      ],
      "metadata": {
        "id": "THQESGLvHl0G"
      }
    },
    {
      "cell_type": "code",
      "source": [
        "class Product:\n",
        "  def __init__(self, name, price, quantity):\n",
        "    self.name = name\n",
        "    self.price = price\n",
        "    self.quantity = quantity\n",
        "\n",
        "  def total_price(self):\n",
        "    return self.price * self.quantity\n",
        "\n",
        "# --- Testing ---\n",
        "product = Product(\"Laptop\", 1000, 2)\n",
        "print(f\"Total price of {product.quantity} {product.name}(s): ${product.total_price()}\")"
      ],
      "metadata": {
        "colab": {
          "base_uri": "https://localhost:8080/"
        },
        "id": "0cO1EisSHVQp",
        "outputId": "aa46105b-aba4-4cc4-c8b5-828c6b3cecf0"
      },
      "execution_count": 99,
      "outputs": [
        {
          "output_type": "stream",
          "name": "stdout",
          "text": [
            "Total price of 2 Laptop(s): $2000\n"
          ]
        }
      ]
    },
    {
      "cell_type": "markdown",
      "source": [
        "<h2><b> 16. Create a class Animal with an abstract method sound(). Create two derived classes Cow and Sheep that\n",
        "implement the sound() method."
      ],
      "metadata": {
        "id": "W4Tyv-ttICyj"
      }
    },
    {
      "cell_type": "code",
      "source": [
        "from abc import ABC, abstractmethod\n",
        "class Animal:\n",
        "  @abstractmethod\n",
        "  def sound(self):\n",
        "    pass\n",
        "\n",
        "class Cow(Animal):\n",
        "  def sound(self):\n",
        "    print(\"Moo!\")\n",
        "\n",
        "class Sheep(Animal):\n",
        "  def sound(self):\n",
        "    print(\"Baa!\")\n",
        "\n",
        "# --- Testing ---\n",
        "cow = Cow()\n",
        "cow.sound()\n",
        "\n",
        "sheep = Sheep()\n",
        "sheep.sound()\n"
      ],
      "metadata": {
        "colab": {
          "base_uri": "https://localhost:8080/"
        },
        "id": "RjLMge_FIIhH",
        "outputId": "503a3e55-e851-485c-d596-4931ec12ad89"
      },
      "execution_count": 100,
      "outputs": [
        {
          "output_type": "stream",
          "name": "stdout",
          "text": [
            "Moo!\n",
            "Baa!\n"
          ]
        }
      ]
    },
    {
      "cell_type": "markdown",
      "source": [
        "<h2><b> 17. Create a class Book with attributes title, author, and year_published. Add a method get_book_info() that\n",
        "returns a formatted string with the book's details."
      ],
      "metadata": {
        "id": "F9_8FjOfIwVw"
      }
    },
    {
      "cell_type": "code",
      "source": [
        "class Book:\n",
        "    def __init__(self, title, author, year_published):\n",
        "        self.title = title\n",
        "        self.author = author\n",
        "        self.year_published = year_published\n",
        "\n",
        "    def get_book_info(self):\n",
        "        return f\"'{self.title}' by {self.author}, published in {self.year_published}\"\n",
        "\n",
        "\n",
        "# --- Testing ---\n",
        "book1 = Book(\"To Kill a Mockingbird\", \"Harper Lee\", 1960)\n",
        "book2 = Book(\"1984\", \"George Orwell\", 1949)\n",
        "\n",
        "print(book1.get_book_info())\n",
        "print(book2.get_book_info())\n"
      ],
      "metadata": {
        "colab": {
          "base_uri": "https://localhost:8080/"
        },
        "id": "VJibEdpvI4gK",
        "outputId": "0b98db47-707b-45fb-c080-fb25566cea79"
      },
      "execution_count": 101,
      "outputs": [
        {
          "output_type": "stream",
          "name": "stdout",
          "text": [
            "'To Kill a Mockingbird' by Harper Lee, published in 1960\n",
            "'1984' by George Orwell, published in 1949\n"
          ]
        }
      ]
    },
    {
      "cell_type": "markdown",
      "source": [
        "<h2><b> 18.  Create a class House with attributes address and price. Create a derived class Mansion that adds an\n",
        "attribute number_of_rooms."
      ],
      "metadata": {
        "id": "F85E2cEWJWra"
      }
    },
    {
      "cell_type": "code",
      "source": [
        "class House:\n",
        "    def __init__(self, address, price):\n",
        "        self.address = address\n",
        "        self.price = price\n",
        "\n",
        "    def get_info(self):\n",
        "        return f\"House at {self.address}, priced at ${self.price}\"\n",
        "\n",
        "\n",
        "class Mansion(House):   # Inherits from House\n",
        "    def __init__(self, address, price, number_of_rooms):\n",
        "        super().__init__(address, price)  # Call parent constructor\n",
        "        self.number_of_rooms = number_of_rooms\n",
        "\n",
        "    def get_info(self):\n",
        "        return f\"Mansion at {self.address}, priced at ${self.price}, with {self.number_of_rooms} rooms\"\n",
        "\n",
        "\n",
        "# --- Testing ---\n",
        "house1 = House(\"123 Main Street\", 250000)\n",
        "mansion1 = Mansion(\"456 Luxury Ave\", 2000000, 12)\n",
        "\n",
        "print(house1.get_info())\n",
        "print(mansion1.get_info())\n"
      ],
      "metadata": {
        "colab": {
          "base_uri": "https://localhost:8080/"
        },
        "id": "3slh200TJf7r",
        "outputId": "cfc7fcb1-0afd-41be-b6e8-07140b19553a"
      },
      "execution_count": 102,
      "outputs": [
        {
          "output_type": "stream",
          "name": "stdout",
          "text": [
            "House at 123 Main Street, priced at $250000\n",
            "Mansion at 456 Luxury Ave, priced at $2000000, with 12 rooms\n"
          ]
        }
      ]
    }
  ]
}